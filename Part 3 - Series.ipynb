{
 "cells": [
  {
   "cell_type": "markdown",
   "metadata": {
    "heading_collapsed": true
   },
   "source": [
    "# Array"
   ]
  },
  {
   "cell_type": "code",
   "execution_count": null,
   "metadata": {
    "hidden": true
   },
   "outputs": [],
   "source": []
  },
  {
   "cell_type": "code",
   "execution_count": 69,
   "metadata": {
    "ExecuteTime": {
     "end_time": "2020-02-14T19:14:32.530734Z",
     "start_time": "2020-02-14T19:14:32.506798Z"
    },
    "hidden": true
   },
   "outputs": [],
   "source": [
    "class Arr:\n",
    "    def __init__(self, data):\n",
    "        data = [item for item in data]\n",
    "        self.dtype = dtype(data)\n",
    "        self.data = [self.dtype(item) for item in data]\n",
    "        self.size = len(self.data) # Because len will be something else\n",
    "        self.shape = (self.size,)\n",
    "        self.ndim = len(self.shape)\n",
    "\n",
    "    def __str__(self):\n",
    "        ret = \"Arr: \\n\" # We will add more strings to this \"main\" string\n",
    "        if self.ndim < 2: \n",
    "            ret += str(self.data)\n",
    "        else:\n",
    "            rows, cols = self.shape\n",
    "            for i, val in enumerate(self.data):\n",
    "                ret += str(val).center(6) # str.center - check it out.\n",
    "                if i % cols == cols -1: # in \"real\" math this means i mod cols = -1\n",
    "                    ret += '\\n'\n",
    "    \n",
    "        return ret\n",
    "\n",
    "    __repr__ = __str__\n",
    "\n",
    "    def reshape(self, rows, cols=None):\n",
    "        ret = Arr(self.data)\n",
    "        if cols is None:\n",
    "            ret = ret.reshape(rows, 1)\n",
    "            ret.shape = (ret.shape[0],)\n",
    "            ret.ndim = len(ret.shape)\n",
    "            return ret\n",
    "        elif cols == -1:\n",
    "            assert self.size % rows == 0, f\"rows must be divide {self.size} without a remainder\"\n",
    "            cols = self.size // rows\n",
    "        elif rows == -1:\n",
    "            assert self.size % cols == 0, f\"cols must be divide {self.size} without a remainder\"\n",
    "            rows = self.size // cols\n",
    "        assert rows * cols == len(self.data), (f\"cannot reshape data with {self.size}\"\n",
    "                                               f\" values to shape ({rows},{cols})\")\n",
    "        ret.shape = (rows, cols)\n",
    "        ret.ndim = len(ret.shape)\n",
    "        return ret\n",
    "\n",
    "    def __getitem__(self, items):\n",
    "        return arr_getter(self, items)\n",
    "    \n",
    "    def __len__(self):\n",
    "        return self.shape[0]\n",
    "\n",
    "    def __iter__(self):\n",
    "        return iter(self.data)\n",
    "\n",
    "    ### Math\n",
    "    def sum(self):\n",
    "        return sum(self)\n",
    "\n",
    "    def count(self):\n",
    "        return len(self)\n",
    "\n",
    "    def mean(self):\n",
    "        return (self.sum() / self.count())\n",
    "    \n",
    "    ### Arithmetic\n",
    "\n",
    "    def __add__(self, other):\n",
    "        return zip_apply(self, other, self.dtype.__add__)\n",
    "\n",
    "    def __sub__(self, other):\n",
    "        return zip_apply(self, other, self.dtype.__sub__)\n",
    "\n",
    "    def __mul__(self, other):\n",
    "        return zip_apply(self, other, self.dtype.__mul__)\n",
    "\n",
    "    def __truediv__(self, other):\n",
    "        return zip_apply(self, other, self.dtype.__truediv__)\n",
    "\n",
    "    def __abs__(self):\n",
    "        return Arr(map(self.dtype.__abs__, self.data))\n",
    "\n",
    "\n",
    "def zip_apply(left, right, f):\n",
    "    # Length is the same\n",
    "    assert len(left) == len(right), f'arrays are not of same shape'\n",
    "    # Type is the same\n",
    "    assert dtype(left) == dtype(right), f'Arrays are not of same dtype'\n",
    "    # We can do the work\n",
    "    result = [f(l, r) for (l, r) in zip(left, right)]\n",
    "    return Arr(result)\n",
    "\n",
    "\n",
    "def dtype(obj):\n",
    "    \"\"\"Returns the dtype of the array\"\"\"\n",
    "    dtype = int\n",
    "    for item in obj:\n",
    "        itype = type(item)\n",
    "        if itype == str:  # str is the largest, so dtype is str\n",
    "            return str\n",
    "        if itype == float:  # We haven't seen str by now so type is either float or int\n",
    "            dtype = float\n",
    "    return dtype\n",
    "\n",
    "def indices2len(start, stop, step):\n",
    "    if step > 0:\n",
    "        return (stop - start - 1) // step + 1\n",
    "    elif step == 0:\n",
    "        return 1\n",
    "    else:\n",
    "        # No reversing\n",
    "        raise ValueError\n",
    "        \n",
    "\n",
    "def coord2idx(arr, row, col):\n",
    "    return row * arr.shape[1] + col\n",
    "\n",
    "def idx2coord(arr, idx):\n",
    "    row = idx // arr.shape[1]\n",
    "    col = idx % arr.shape[0]\n",
    "    return row, col\n",
    "\n",
    "def arr_getter(arr, items):\n",
    "    if not isinstance(items, tuple):  # got only one slicer\n",
    "        items = (items,)\n",
    "    assert arr.ndim >= len(items), f'More slicers ({len(items)}) than dimensions ({arr.ndim})'\n",
    "    if arr.ndim == 1:\n",
    "        return arr.data[items[0]]\n",
    "    if arr.ndim == 2:\n",
    "        # Less Then 2 Items\n",
    "        if len(items) < 2:\n",
    "            ret = arr_getter(arr, items + (slice(None),))\n",
    "            return ret\n",
    "        # Int location\n",
    "        new_items = []\n",
    "        for item in items:\n",
    "            if isinstance(item, int):\n",
    "                new_items.append(slice(item, item+1))\n",
    "            else:\n",
    "                new_items.append(item)\n",
    "        items = tuple(new_items)\n",
    "        r_start, r_stop, r_step = items[0].indices(arr.shape[0])\n",
    "        c_start, c_stop, c_step = items[1].indices(arr.shape[1])\n",
    "        new_shape = (indices2len(r_start, r_stop, r_step), indices2len(c_start, c_stop, c_step))\n",
    "        return array_iterator(arr, new_shape, r_start, r_step, r_stop, c_step, c_stop, c_start)\n",
    "    \n",
    "def array_iterator(arr, new_shape, r_start, r_step, r_stop, c_step, c_stop, c_start):\n",
    "    r_index, c_index = r_start, c_start # index is set to start\n",
    "    ret = [] # We will populate this\n",
    "    for _ in range(new_shape[0] * new_shape[1]):\n",
    "        if c_index >= c_stop:\n",
    "            # We reached end of line\n",
    "            c_index = c_start # Go back to start of line which is first coloumn\n",
    "            r_index += r_step # Advance the row\n",
    "        if r_index >= r_stop:\n",
    "            # We reached the end\n",
    "            break\n",
    "        _index = coord2idx(arr, r_index, c_index) # Which index to take from the data\n",
    "        try:\n",
    "            ret.append(arr.data[_index])\n",
    "        except IndexError:\n",
    "            break\n",
    "        c_index += c_step\n",
    "    ret = Arr(ret).reshape(*new_shape)\n",
    "    return ret"
   ]
  },
  {
   "cell_type": "markdown",
   "metadata": {},
   "source": [
    "# Index\n",
    "An index is an object that indexes a Series. We will want to achieve. it has:\n",
    "1. Values that represent the actual indices\n",
    "2. A mapping between indices to numerical indices"
   ]
  },
  {
   "cell_type": "code",
   "execution_count": 167,
   "metadata": {
    "ExecuteTime": {
     "end_time": "2020-02-14T19:49:20.382578Z",
     "start_time": "2020-02-14T19:49:20.378250Z"
    }
   },
   "outputs": [],
   "source": [
    "from collections import defaultdict\n",
    "class Idx:\n",
    "    def __init__(self, data):\n",
    "        self.values = Arr(data)\n",
    "        self.mapping = defaultdict(list)\n",
    "        for i, key in enumerate(data):\n",
    "            self.mapping[key].append(i)\n",
    "\n",
    "    def __len__(self):\n",
    "        return len(self.values)\n",
    "    \n",
    "    def unique(self):\n",
    "        return Arr(self.mapping.keys())\n",
    "\n",
    "    def __getitem__(self, item):\n",
    "        return self.values.__getitem__(item)    \n",
    "    \n",
    "    def __str__(self):\n",
    "        return f\"Index with values: {self.unique()}\""
   ]
  },
  {
   "cell_type": "code",
   "execution_count": 168,
   "metadata": {
    "ExecuteTime": {
     "end_time": "2020-02-14T19:49:23.045630Z",
     "start_time": "2020-02-14T19:49:23.039722Z"
    }
   },
   "outputs": [
    {
     "data": {
      "text/plain": [
       "defaultdict(list, {'a': [0, 3, 5, 6], 'b': [1, 2, 4], 'c': [7], 'd': [8]})"
      ]
     },
     "execution_count": 168,
     "metadata": {},
     "output_type": "execute_result"
    }
   ],
   "source": [
    "idx = Idx(list('abbabaacd'))\n",
    "idx.mapping"
   ]
  },
  {
   "cell_type": "code",
   "execution_count": 169,
   "metadata": {
    "ExecuteTime": {
     "end_time": "2020-02-14T19:49:23.893347Z",
     "start_time": "2020-02-14T19:49:23.889728Z"
    }
   },
   "outputs": [
    {
     "name": "stdout",
     "output_type": "stream",
     "text": [
      "Index with values: Arr: \n",
      "['a', 'b', 'c', 'd']\n"
     ]
    }
   ],
   "source": [
    "print (idx)"
   ]
  },
  {
   "cell_type": "markdown",
   "metadata": {},
   "source": [
    "# Series\n",
    "A series is an object that has 3 things:\n",
    "1. Array `Arr` of values\n",
    "2. Index\n",
    "3. Name"
   ]
  },
  {
   "cell_type": "code",
   "execution_count": 42,
   "metadata": {
    "ExecuteTime": {
     "end_time": "2020-02-14T00:34:06.862906Z",
     "start_time": "2020-02-14T00:34:06.858015Z"
    }
   },
   "outputs": [
    {
     "data": {
      "text/plain": [
       "<__main__.Idx at 0x10c9016a0>"
      ]
     },
     "execution_count": 42,
     "metadata": {},
     "output_type": "execute_result"
    }
   ],
   "source": [
    "None or Idx(range(len(Arr(range(5)))))"
   ]
  },
  {
   "cell_type": "code",
   "execution_count": 123,
   "metadata": {
    "ExecuteTime": {
     "end_time": "2020-02-14T19:33:39.441296Z",
     "start_time": "2020-02-14T19:33:39.436673Z"
    }
   },
   "outputs": [],
   "source": [
    "class Srs:\n",
    "    def __init__(self, data, name=None, index=None):\n",
    "        self.values = Arr(data)\n",
    "        self.index = index or Idx(range(len(self.values)))\n",
    "        assert len(self.values) == len(self.index)\n",
    "        self.name = name or \"new_series\"\n",
    "\n",
    "    def __len__(self):\n",
    "        return len(self.values)"
   ]
  },
  {
   "cell_type": "markdown",
   "metadata": {},
   "source": [
    "## Iterate Over a Series\n",
    "When iterating over a series we want to iterate along with the index. We will `zip` them together."
   ]
  },
  {
   "cell_type": "code",
   "execution_count": 124,
   "metadata": {
    "ExecuteTime": {
     "end_time": "2020-02-14T19:33:40.055524Z",
     "start_time": "2020-02-14T19:33:40.046435Z"
    }
   },
   "outputs": [],
   "source": [
    "class Srs(Srs):  \n",
    "    def __iter__(self):\n",
    "        return zip(self.index.values, self.values)\n",
    "    \n",
    "    def __str__(self):\n",
    "        ret = f\"{self.name}: \\n\"\n",
    "        for idx, val in self: # This is now possible thanks to __iter__\n",
    "            ret += str(idx).center(6)\n",
    "            ret += str(val).center(6)\n",
    "            ret += '\\n'\n",
    "\n",
    "        return ret\n",
    "\n",
    "    __repr__ = __str__"
   ]
  },
  {
   "cell_type": "code",
   "execution_count": 125,
   "metadata": {
    "ExecuteTime": {
     "end_time": "2020-02-14T19:33:40.429669Z",
     "start_time": "2020-02-14T19:33:40.425083Z"
    }
   },
   "outputs": [
    {
     "data": {
      "text/plain": [
       "foo: \n",
       "  a     0   \n",
       "  b     1   \n",
       "  c     2   \n",
       "  d     3   \n",
       "  e     4   "
      ]
     },
     "execution_count": 125,
     "metadata": {},
     "output_type": "execute_result"
    }
   ],
   "source": [
    "idx = Idx(list('abcde'))\n",
    "srs = Srs(range(5), 'foo', idx)\n",
    "srs"
   ]
  },
  {
   "cell_type": "markdown",
   "metadata": {},
   "source": [
    "# Copying array behaviour with `__getattr__`\n",
    "`__getattr__` is called if the attribute does not exist. [Example](Supplemental%20-%20Minimals.ipynb#Get-Attr).  \n",
    "if the method does not exist, we want to copy the behviour of the underlying series. The way to know if the underlying series has the method, is by calling `hasattr`.  \n",
    "Both `getattr` and `setattr` are ways to call methods using strings."
   ]
  },
  {
   "cell_type": "code",
   "execution_count": 126,
   "metadata": {
    "ExecuteTime": {
     "end_time": "2020-02-14T19:33:41.197629Z",
     "start_time": "2020-02-14T19:33:41.193661Z"
    }
   },
   "outputs": [],
   "source": [
    "class Srs(Srs):\n",
    "    def __getattr__(self, item):\n",
    "        if hasattr(self.values, item):\n",
    "            return getattr(self.values, item)\n",
    "        raise AttributeError"
   ]
  },
  {
   "cell_type": "code",
   "execution_count": 127,
   "metadata": {
    "ExecuteTime": {
     "end_time": "2020-02-14T19:33:41.488596Z",
     "start_time": "2020-02-14T19:33:41.485128Z"
    }
   },
   "outputs": [],
   "source": [
    "arr = Arr([10,5,2])\n",
    "srs = Srs([10,5,2], 'foo')"
   ]
  },
  {
   "cell_type": "code",
   "execution_count": 128,
   "metadata": {
    "ExecuteTime": {
     "end_time": "2020-02-14T19:33:41.797017Z",
     "start_time": "2020-02-14T19:33:41.792859Z"
    }
   },
   "outputs": [
    {
     "data": {
      "text/plain": [
       "17"
      ]
     },
     "execution_count": 128,
     "metadata": {},
     "output_type": "execute_result"
    }
   ],
   "source": [
    "arr.sum()"
   ]
  },
  {
   "cell_type": "code",
   "execution_count": 129,
   "metadata": {
    "ExecuteTime": {
     "end_time": "2020-02-14T19:33:42.079057Z",
     "start_time": "2020-02-14T19:33:42.074367Z"
    }
   },
   "outputs": [
    {
     "data": {
      "text/plain": [
       "17"
      ]
     },
     "execution_count": 129,
     "metadata": {},
     "output_type": "execute_result"
    }
   ],
   "source": [
    "srs.sum()"
   ]
  },
  {
   "cell_type": "code",
   "execution_count": 130,
   "metadata": {
    "ExecuteTime": {
     "end_time": "2020-02-14T19:33:42.402238Z",
     "start_time": "2020-02-14T19:33:42.395226Z"
    }
   },
   "outputs": [
    {
     "ename": "TypeError",
     "evalue": "unsupported operand type(s) for +: 'Srs' and 'Srs'",
     "output_type": "error",
     "traceback": [
      "\u001b[0;31m---------------------------------------------------------------------------\u001b[0m",
      "\u001b[0;31mTypeError\u001b[0m                                 Traceback (most recent call last)",
      "\u001b[0;32m<ipython-input-130-a7651bf69768>\u001b[0m in \u001b[0;36m<module>\u001b[0;34m\u001b[0m\n\u001b[1;32m      1\u001b[0m \u001b[0;31m# This will sadly not work\u001b[0m\u001b[0;34m\u001b[0m\u001b[0;34m\u001b[0m\u001b[0;34m\u001b[0m\u001b[0m\n\u001b[0;32m----> 2\u001b[0;31m \u001b[0msrs\u001b[0m \u001b[0;34m+\u001b[0m \u001b[0msrs\u001b[0m\u001b[0;34m\u001b[0m\u001b[0;34m\u001b[0m\u001b[0m\n\u001b[0m",
      "\u001b[0;31mTypeError\u001b[0m: unsupported operand type(s) for +: 'Srs' and 'Srs'"
     ]
    }
   ],
   "source": [
    "# This will sadly not work\n",
    "srs + srs"
   ]
  },
  {
   "cell_type": "markdown",
   "metadata": {},
   "source": [
    "# Arithmetic"
   ]
  },
  {
   "cell_type": "code",
   "execution_count": 153,
   "metadata": {
    "ExecuteTime": {
     "end_time": "2020-02-14T19:41:28.988593Z",
     "start_time": "2020-02-14T19:41:28.984111Z"
    }
   },
   "outputs": [],
   "source": [
    "def series_apply(left, right, f_name):\n",
    "    # Same index. We will not deal with not aligned concats\n",
    "    f = getattr(left.values, f_name) # We now now gett so let's make it nicer\n",
    "    res = f(right.values)\n",
    "    return Srs(res, index=left.index)\n",
    "\n",
    "class Srs(Srs):\n",
    "    def __add__(self, other):\n",
    "        return series_apply(self, other, '__add__')\n",
    "    def __sub__(self, other):\n",
    "        return series_apply(self, other, '__sub__')\n",
    "    def __mul__(self, other):\n",
    "        return series_apply(self, other, '__mul__')\n",
    "    def __truediv__(self, other):\n",
    "        return series_apply(self, other, '__truediv__')"
   ]
  },
  {
   "cell_type": "code",
   "execution_count": 154,
   "metadata": {
    "ExecuteTime": {
     "end_time": "2020-02-14T19:41:30.347583Z",
     "start_time": "2020-02-14T19:41:30.343581Z"
    }
   },
   "outputs": [],
   "source": [
    "s1 = Srs([1,2,3])\n",
    "s2 = Srs([30,20,10])"
   ]
  },
  {
   "cell_type": "code",
   "execution_count": 158,
   "metadata": {
    "ExecuteTime": {
     "end_time": "2020-02-14T19:42:21.758924Z",
     "start_time": "2020-02-14T19:42:21.752418Z"
    }
   },
   "outputs": [
    {
     "name": "stdout",
     "output_type": "stream",
     "text": [
      "new_series: \n",
      "  0     31  \n",
      "  1     22  \n",
      "  2     13  \n",
      "\n",
      "new_series: \n",
      "  0     30  \n",
      "  1     40  \n",
      "  2     30  \n",
      "\n",
      "-18.0\n",
      "0.43333333333333335\n"
     ]
    }
   ],
   "source": [
    "print (s1+s2)\n",
    "print (s1*s2)\n",
    "print ((s1-s2).mean())\n",
    "print ((s1/s2).sum())\n"
   ]
  },
  {
   "cell_type": "markdown",
   "metadata": {
    "ExecuteTime": {
     "end_time": "2020-02-14T00:30:42.820832Z",
     "start_time": "2020-02-14T00:30:42.816328Z"
    }
   },
   "source": [
    "# `getitem` by index location\n"
   ]
  },
  {
   "cell_type": "code",
   "execution_count": 159,
   "metadata": {
    "ExecuteTime": {
     "end_time": "2020-02-14T19:43:09.214702Z",
     "start_time": "2020-02-14T19:43:09.211603Z"
    }
   },
   "outputs": [],
   "source": [
    "def listify(val):\n",
    "    if isinstance(val, list):\n",
    "        return val\n",
    "    else:\n",
    "        return [val]"
   ]
  },
  {
   "cell_type": "code",
   "execution_count": 172,
   "metadata": {
    "ExecuteTime": {
     "end_time": "2020-02-14T19:53:29.473669Z",
     "start_time": "2020-02-14T19:53:29.467979Z"
    }
   },
   "outputs": [],
   "source": [
    "class Srs(Srs):\n",
    "    def __getitem__(self, items):\n",
    "        if items == slice(None):\n",
    "            # To solve things like srs[:]\n",
    "            return self\n",
    "        items = listify(items)\n",
    "        idx = []\n",
    "        for item in items:\n",
    "            assert item in self.index.mapping.keys(), f'{items} is not in the series index'\n",
    "            idx.extend(self.index.mapping.get(item))\n",
    "\n",
    "        idx = sorted(idx)\n",
    "        vals = [self.values[i] for i in idx]\n",
    "        new_index = [self.index[i] for i in idx] # This is a bit overhead, but will suffice for now\n",
    "        return Srs(vals, name=self.name, index=Idx(new_index))"
   ]
  },
  {
   "cell_type": "code",
   "execution_count": 171,
   "metadata": {
    "ExecuteTime": {
     "end_time": "2020-02-14T19:52:50.213489Z",
     "start_time": "2020-02-14T19:52:50.208603Z"
    }
   },
   "outputs": [
    {
     "name": "stdout",
     "output_type": "stream",
     "text": [
      "bar: \n",
      "  e     2   \n",
      "  e     4   \n",
      "\n",
      "bar: \n",
      "  a     0   \n",
      "  e     2   \n",
      "  e     4   \n",
      "\n"
     ]
    }
   ],
   "source": [
    "idx = Idx(list('abede'))\n",
    "srs = Srs(range(5), 'bar', idx)\n",
    "print(srs[['e']])\n",
    "print(srs[['e', 'a']])"
   ]
  },
  {
   "cell_type": "markdown",
   "metadata": {},
   "source": [
    "# Exercise: Implement `Srs.value_counts()`\n",
    "[`pd.value_count()`](https://pandas.pydata.org/pandas-docs/stable/reference/api/pandas.Series.value_counts.html)"
   ]
  },
  {
   "cell_type": "code",
   "execution_count": 176,
   "metadata": {
    "ExecuteTime": {
     "end_time": "2020-02-14T19:59:24.351688Z",
     "start_time": "2020-02-14T19:59:24.346905Z"
    }
   },
   "outputs": [],
   "source": [
    "# Ex\n",
    "class Srs(Srs):\n",
    "    def as_index(self):\n",
    "        # Hint\n",
    "        return Idx(self.values)\n",
    "\n",
    "    def value_counts(self):\n",
    "        # BOE\n",
    "        idx = self.as_index()\n",
    "        map_ = idx.mapping\n",
    "        keys = []\n",
    "        counts = []\n",
    "        for key, indices in map_.items():\n",
    "            keys.append(key)\n",
    "            counts.append(len(indices))\n",
    "        ret = Srs(counts, name=f'{self.name} value counts', index=Idx(keys))\n",
    "        return ret\n",
    "        # EOE"
   ]
  },
  {
   "cell_type": "code",
   "execution_count": 177,
   "metadata": {
    "ExecuteTime": {
     "end_time": "2020-02-14T19:59:49.262262Z",
     "start_time": "2020-02-14T19:59:49.257969Z"
    }
   },
   "outputs": [],
   "source": [
    "vc = Srs('abbbbabdbedb', name='letters')"
   ]
  },
  {
   "cell_type": "code",
   "execution_count": 178,
   "metadata": {
    "ExecuteTime": {
     "end_time": "2020-02-14T19:59:49.748234Z",
     "start_time": "2020-02-14T19:59:49.744337Z"
    }
   },
   "outputs": [
    {
     "name": "stdout",
     "output_type": "stream",
     "text": [
      "letters: \n",
      "  0     a   \n",
      "  1     b   \n",
      "  2     b   \n",
      "  3     b   \n",
      "  4     b   \n",
      "  5     a   \n",
      "  6     b   \n",
      "  7     d   \n",
      "  8     b   \n",
      "  9     e   \n",
      "  10    d   \n",
      "  11    b   \n",
      "\n"
     ]
    }
   ],
   "source": [
    "print(vc)"
   ]
  },
  {
   "cell_type": "code",
   "execution_count": 179,
   "metadata": {
    "ExecuteTime": {
     "end_time": "2020-02-14T19:59:50.585306Z",
     "start_time": "2020-02-14T19:59:50.580862Z"
    }
   },
   "outputs": [
    {
     "name": "stdout",
     "output_type": "stream",
     "text": [
      "letters value counts: \n",
      "  a     2   \n",
      "  b     7   \n",
      "  d     2   \n",
      "  e     1   \n",
      "\n"
     ]
    }
   ],
   "source": [
    "print(vc.value_counts())"
   ]
  }
 ],
 "metadata": {
  "kernelspec": {
   "display_name": "Python 3",
   "language": "python",
   "name": "python3"
  },
  "language_info": {
   "codemirror_mode": {
    "name": "ipython",
    "version": 3
   },
   "file_extension": ".py",
   "mimetype": "text/x-python",
   "name": "python",
   "nbconvert_exporter": "python",
   "pygments_lexer": "ipython3",
   "version": "3.8.1"
  },
  "toc": {
   "base_numbering": 1,
   "nav_menu": {},
   "number_sections": true,
   "sideBar": true,
   "skip_h1_title": false,
   "title_cell": "Table of Contents",
   "title_sidebar": "Contents",
   "toc_cell": false,
   "toc_position": {},
   "toc_section_display": true,
   "toc_window_display": true
  }
 },
 "nbformat": 4,
 "nbformat_minor": 4
}
