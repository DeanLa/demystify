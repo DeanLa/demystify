{
 "cells": [
  {
   "cell_type": "markdown",
   "metadata": {},
   "source": [
    "# Get Item"
   ]
  },
  {
   "cell_type": "code",
   "execution_count": 4,
   "metadata": {
    "ExecuteTime": {
     "end_time": "2020-02-13T21:22:00.426813Z",
     "start_time": "2020-02-13T21:22:00.422622Z"
    }
   },
   "outputs": [],
   "source": [
    "class GI():\n",
    "    def __init__(self):\n",
    "        self.data = [1, 2, 3, 4, 5, 6]\n",
    "\n",
    "    def __getitem__(self, item):\n",
    "        print('item:',item)\n",
    "        return self.data[item]"
   ]
  },
  {
   "cell_type": "code",
   "execution_count": 5,
   "metadata": {
    "ExecuteTime": {
     "end_time": "2020-02-13T21:22:00.996205Z",
     "start_time": "2020-02-13T21:22:00.993403Z"
    }
   },
   "outputs": [],
   "source": [
    "a = GI()"
   ]
  },
  {
   "cell_type": "code",
   "execution_count": 6,
   "metadata": {
    "ExecuteTime": {
     "end_time": "2020-02-13T21:22:01.489589Z",
     "start_time": "2020-02-13T21:22:01.484051Z"
    }
   },
   "outputs": [
    {
     "name": "stdout",
     "output_type": "stream",
     "text": [
      "item: 1\n"
     ]
    }
   ],
   "source": [
    "x = a[1]"
   ]
  },
  {
   "cell_type": "code",
   "execution_count": 7,
   "metadata": {
    "ExecuteTime": {
     "end_time": "2020-02-13T21:22:03.235833Z",
     "start_time": "2020-02-13T21:22:03.230998Z"
    }
   },
   "outputs": [
    {
     "name": "stdout",
     "output_type": "stream",
     "text": [
      "item: -1\n"
     ]
    }
   ],
   "source": [
    "x = a[-1]"
   ]
  },
  {
   "cell_type": "code",
   "execution_count": 8,
   "metadata": {
    "ExecuteTime": {
     "end_time": "2020-02-13T21:22:11.071271Z",
     "start_time": "2020-02-13T21:22:11.064482Z"
    }
   },
   "outputs": [
    {
     "name": "stdout",
     "output_type": "stream",
     "text": [
      "item: slice(1, 4, None)\n",
      "item: slice(None, 4, None)\n",
      "item: slice(4, None, None)\n",
      "item: slice(None, None, None)\n",
      "item: slice(None, None, 2)\n"
     ]
    }
   ],
   "source": [
    "# Slices\n",
    "x = a[1:4]\n",
    "x = a[:4]\n",
    "x = a[4:]\n",
    "x = a[::]\n",
    "x = a[::2]"
   ]
  },
  {
   "cell_type": "markdown",
   "metadata": {},
   "source": [
    "## Slices"
   ]
  },
  {
   "cell_type": "code",
   "execution_count": 9,
   "metadata": {
    "ExecuteTime": {
     "end_time": "2020-02-13T21:22:49.257854Z",
     "start_time": "2020-02-13T21:22:49.252449Z"
    }
   },
   "outputs": [
    {
     "name": "stdout",
     "output_type": "stream",
     "text": [
      "slice(None, 1, None)\n",
      "slice(1, 2, None)\n",
      "slice(1, 2, 3)\n"
     ]
    }
   ],
   "source": [
    "#\n",
    "print(slice(1)) # Assumes last\n",
    "print(slice(1, 2)) \n",
    "print(slice(1, 2, 3))"
   ]
  },
  {
   "cell_type": "code",
   "execution_count": 11,
   "metadata": {
    "ExecuteTime": {
     "end_time": "2020-02-13T21:23:01.754528Z",
     "start_time": "2020-02-13T21:23:01.750238Z"
    }
   },
   "outputs": [
    {
     "name": "stdout",
     "output_type": "stream",
     "text": [
      "slice(None, 4, None)\n",
      "(0, 4, 1)\n",
      "slice(None, None, 4)\n",
      "(0, 7, 4)\n"
     ]
    }
   ],
   "source": [
    "### slice.indices\n",
    "sl = slice(4)\n",
    "print(sl)\n",
    "print(sl.indices(7))\n",
    "sl = slice(None, None, 4)\n",
    "print(sl)\n",
    "print(sl.indices(7))"
   ]
  },
  {
   "cell_type": "code",
   "execution_count": 13,
   "metadata": {
    "ExecuteTime": {
     "end_time": "2020-02-13T21:23:15.063170Z",
     "start_time": "2020-02-13T21:23:15.052493Z"
    }
   },
   "outputs": [
    {
     "name": "stdout",
     "output_type": "stream",
     "text": [
      "item: (slice(None, 4, None), slice(None, 2, None))\n"
     ]
    },
    {
     "ename": "TypeError",
     "evalue": "list indices must be integers or slices, not tuple",
     "output_type": "error",
     "traceback": [
      "\u001b[0;31m---------------------------------------------------------------------------\u001b[0m",
      "\u001b[0;31mTypeError\u001b[0m                                 Traceback (most recent call last)",
      "\u001b[0;32m<ipython-input-13-625ef5dd8b58>\u001b[0m in \u001b[0;36m<module>\u001b[0;34m\u001b[0m\n\u001b[1;32m      1\u001b[0m \u001b[0;31m### Get a tuple\u001b[0m\u001b[0;34m\u001b[0m\u001b[0;34m\u001b[0m\u001b[0;34m\u001b[0m\u001b[0m\n\u001b[0;32m----> 2\u001b[0;31m \u001b[0my\u001b[0m \u001b[0;34m=\u001b[0m \u001b[0ma\u001b[0m\u001b[0;34m[\u001b[0m\u001b[0;34m:\u001b[0m\u001b[0;36m4\u001b[0m\u001b[0;34m,\u001b[0m \u001b[0;34m:\u001b[0m\u001b[0;36m2\u001b[0m\u001b[0;34m]\u001b[0m\u001b[0;34m\u001b[0m\u001b[0;34m\u001b[0m\u001b[0m\n\u001b[0m",
      "\u001b[0;32m<ipython-input-4-6111c9927375>\u001b[0m in \u001b[0;36m__getitem__\u001b[0;34m(self, item)\u001b[0m\n\u001b[1;32m      5\u001b[0m     \u001b[0;32mdef\u001b[0m \u001b[0m__getitem__\u001b[0m\u001b[0;34m(\u001b[0m\u001b[0mself\u001b[0m\u001b[0;34m,\u001b[0m \u001b[0mitem\u001b[0m\u001b[0;34m)\u001b[0m\u001b[0;34m:\u001b[0m\u001b[0;34m\u001b[0m\u001b[0;34m\u001b[0m\u001b[0m\n\u001b[1;32m      6\u001b[0m         \u001b[0mprint\u001b[0m\u001b[0;34m(\u001b[0m\u001b[0;34m'item:'\u001b[0m\u001b[0;34m,\u001b[0m\u001b[0mitem\u001b[0m\u001b[0;34m)\u001b[0m\u001b[0;34m\u001b[0m\u001b[0;34m\u001b[0m\u001b[0m\n\u001b[0;32m----> 7\u001b[0;31m         \u001b[0;32mreturn\u001b[0m \u001b[0mself\u001b[0m\u001b[0;34m.\u001b[0m\u001b[0mdata\u001b[0m\u001b[0;34m[\u001b[0m\u001b[0mitem\u001b[0m\u001b[0;34m]\u001b[0m\u001b[0;34m\u001b[0m\u001b[0;34m\u001b[0m\u001b[0m\n\u001b[0m",
      "\u001b[0;31mTypeError\u001b[0m: list indices must be integers or slices, not tuple"
     ]
    }
   ],
   "source": [
    "### Get a tuple\n",
    "y = a[:4, :2]"
   ]
  },
  {
   "cell_type": "markdown",
   "metadata": {},
   "source": [
    "# Iterator"
   ]
  },
  {
   "cell_type": "code",
   "execution_count": 29,
   "metadata": {
    "ExecuteTime": {
     "end_time": "2020-02-08T21:44:10.250899Z",
     "start_time": "2020-02-08T21:44:10.246154Z"
    }
   },
   "outputs": [],
   "source": [
    "class It():\n",
    "    def __init__(self):\n",
    "        self.data = [1, 2, 3, 4, 5, 6]\n",
    "        self.start = 0\n",
    "\n",
    "    def __next__(self):\n",
    "        ret = self.data[self._index]\n",
    "        if ret > 4:\n",
    "            raise StopIteration # A \"special\" Error that tells python to stop looping\n",
    "        self._index += 1\n",
    "        return ret\n",
    "\n",
    "    def __iter__(self):\n",
    "        self._index = self.start\n",
    "        return self"
   ]
  },
  {
   "cell_type": "code",
   "execution_count": 30,
   "metadata": {
    "ExecuteTime": {
     "end_time": "2020-02-08T21:44:11.163877Z",
     "start_time": "2020-02-08T21:44:11.160629Z"
    }
   },
   "outputs": [],
   "source": [
    "it = It()"
   ]
  },
  {
   "cell_type": "code",
   "execution_count": 31,
   "metadata": {
    "ExecuteTime": {
     "end_time": "2020-02-08T21:44:11.911480Z",
     "start_time": "2020-02-08T21:44:11.907222Z"
    }
   },
   "outputs": [
    {
     "name": "stdout",
     "output_type": "stream",
     "text": [
      "1\n",
      "2\n",
      "3\n",
      "4\n"
     ]
    }
   ],
   "source": [
    "for i in it:\n",
    "    print(i)"
   ]
  },
  {
   "cell_type": "markdown",
   "metadata": {},
   "source": [
    "Next example will not work as expected. Why?"
   ]
  },
  {
   "cell_type": "code",
   "execution_count": 34,
   "metadata": {
    "ExecuteTime": {
     "end_time": "2020-02-08T21:44:39.238077Z",
     "start_time": "2020-02-08T21:44:39.233794Z"
    }
   },
   "outputs": [
    {
     "name": "stdout",
     "output_type": "stream",
     "text": [
      "1---1\n",
      "1---2\n",
      "1---3\n",
      "1---4\n",
      "\n"
     ]
    }
   ],
   "source": [
    "for i in it:\n",
    "    for j in it:\n",
    "        print(f'{i}---{j}')\n",
    "print()"
   ]
  },
  {
   "cell_type": "code",
   "execution_count": 36,
   "metadata": {
    "ExecuteTime": {
     "end_time": "2020-02-08T21:44:46.091761Z",
     "start_time": "2020-02-08T21:44:46.088098Z"
    }
   },
   "outputs": [
    {
     "name": "stdout",
     "output_type": "stream",
     "text": [
      "3\n",
      "4\n"
     ]
    }
   ],
   "source": [
    "it2 = It()\n",
    "it2.start = 2\n",
    "for i in it2:\n",
    "    print(i)"
   ]
  },
  {
   "cell_type": "markdown",
   "metadata": {},
   "source": [
    "# Markdown Repr "
   ]
  },
  {
   "cell_type": "code",
   "execution_count": 1,
   "metadata": {
    "ExecuteTime": {
     "end_time": "2020-02-14T21:43:28.318278Z",
     "start_time": "2020-02-14T21:43:28.315320Z"
    }
   },
   "outputs": [],
   "source": [
    "class MR():\n",
    "    def __str__(self):\n",
    "        return 'called from str'\n",
    "    def _repr_markdown_(self):\n",
    "        return r'This ~is~ **Markdown**'"
   ]
  },
  {
   "cell_type": "code",
   "execution_count": 2,
   "metadata": {
    "ExecuteTime": {
     "end_time": "2020-02-14T21:43:28.750299Z",
     "start_time": "2020-02-14T21:43:28.745205Z"
    }
   },
   "outputs": [
    {
     "name": "stdout",
     "output_type": "stream",
     "text": [
      "called from str\n"
     ]
    }
   ],
   "source": [
    "mr = MR()\n",
    "print(mr)"
   ]
  },
  {
   "cell_type": "code",
   "execution_count": 3,
   "metadata": {
    "ExecuteTime": {
     "end_time": "2020-02-14T21:43:29.152860Z",
     "start_time": "2020-02-14T21:43:29.143627Z"
    }
   },
   "outputs": [
    {
     "data": {
      "text/markdown": [
       "This ~is~ **Markdown**"
      ],
      "text/plain": [
       "<__main__.MR at 0x1121cae80>"
      ]
     },
     "execution_count": 3,
     "metadata": {},
     "output_type": "execute_result"
    }
   ],
   "source": [
    "mr"
   ]
  },
  {
   "cell_type": "markdown",
   "metadata": {},
   "source": [
    "# Get Attr"
   ]
  },
  {
   "cell_type": "code",
   "execution_count": 21,
   "metadata": {
    "ExecuteTime": {
     "end_time": "2020-02-14T19:06:42.195477Z",
     "start_time": "2020-02-14T19:06:42.186185Z"
    }
   },
   "outputs": [],
   "source": [
    "class GA():\n",
    "    def __init__(self):\n",
    "        self.data = [1, 2, 3, 4, 5, 6]\n",
    "\n",
    "    def sum(self):\n",
    "        return sum(self.data)\n",
    "    \n",
    "    def __getattr__(self, attr):\n",
    "        print ('called getattr')\n",
    "    "
   ]
  },
  {
   "cell_type": "code",
   "execution_count": 22,
   "metadata": {
    "ExecuteTime": {
     "end_time": "2020-02-14T19:06:43.630078Z",
     "start_time": "2020-02-14T19:06:43.627380Z"
    }
   },
   "outputs": [],
   "source": [
    "ga = GA()"
   ]
  },
  {
   "cell_type": "code",
   "execution_count": 23,
   "metadata": {
    "ExecuteTime": {
     "end_time": "2020-02-14T19:06:43.849024Z",
     "start_time": "2020-02-14T19:06:43.843394Z"
    }
   },
   "outputs": [
    {
     "data": {
      "text/plain": [
       "21"
      ]
     },
     "execution_count": 23,
     "metadata": {},
     "output_type": "execute_result"
    }
   ],
   "source": [
    "ga.sum()"
   ]
  },
  {
   "cell_type": "code",
   "execution_count": 25,
   "metadata": {
    "ExecuteTime": {
     "end_time": "2020-02-14T19:06:48.889203Z",
     "start_time": "2020-02-14T19:06:48.885651Z"
    }
   },
   "outputs": [
    {
     "name": "stdout",
     "output_type": "stream",
     "text": [
      "called getattr\n"
     ]
    }
   ],
   "source": [
    "ga.foo"
   ]
  },
  {
   "cell_type": "markdown",
   "metadata": {},
   "source": [
    "# Partial"
   ]
  },
  {
   "cell_type": "code",
   "execution_count": 37,
   "metadata": {
    "ExecuteTime": {
     "end_time": "2020-02-08T21:52:04.595511Z",
     "start_time": "2020-02-08T21:52:04.591193Z"
    }
   },
   "outputs": [
    {
     "name": "stdout",
     "output_type": "stream",
     "text": [
      "15\n"
     ]
    }
   ],
   "source": [
    "from functools import partial\n",
    "\n",
    "\n",
    "def add(x, y):\n",
    "    return x + 10 * y\n",
    "\n",
    "\n",
    "print(add(5, 1))"
   ]
  },
  {
   "cell_type": "code",
   "execution_count": 38,
   "metadata": {
    "ExecuteTime": {
     "end_time": "2020-02-08T21:52:05.170012Z",
     "start_time": "2020-02-08T21:52:05.166183Z"
    }
   },
   "outputs": [
    {
     "name": "stdout",
     "output_type": "stream",
     "text": [
      "15\n"
     ]
    }
   ],
   "source": [
    "add5 = partial(add, 5)\n",
    "print(add5(1))"
   ]
  },
  {
   "cell_type": "code",
   "execution_count": 41,
   "metadata": {
    "ExecuteTime": {
     "end_time": "2020-02-08T21:52:47.898356Z",
     "start_time": "2020-02-08T21:52:47.894844Z"
    }
   },
   "outputs": [
    {
     "name": "stdout",
     "output_type": "stream",
     "text": [
      "105\n"
     ]
    }
   ],
   "source": [
    "add100 = partial(add, y=10)\n",
    "print(add100(5))"
   ]
  },
  {
   "cell_type": "code",
   "execution_count": null,
   "metadata": {},
   "outputs": [],
   "source": [
    "def func_runner(funcs):\n",
    "    return [f() for f in funcs]\n",
    "\n",
    "func_runner([add])\n",
    "funcs = [\n",
    "    partial(add,5,1),\n",
    "    partial(add,1,5),\n",
    "]\n",
    "func_runner(funcs)"
   ]
  },
  {
   "cell_type": "markdown",
   "metadata": {},
   "source": [
    "# "
   ]
  }
 ],
 "metadata": {
  "kernelspec": {
   "display_name": "Python 3",
   "language": "python",
   "name": "python3"
  },
  "language_info": {
   "codemirror_mode": {
    "name": "ipython",
    "version": 3
   },
   "file_extension": ".py",
   "mimetype": "text/x-python",
   "name": "python",
   "nbconvert_exporter": "python",
   "pygments_lexer": "ipython3",
   "version": "3.8.1"
  },
  "toc": {
   "base_numbering": 1,
   "nav_menu": {},
   "number_sections": true,
   "sideBar": true,
   "skip_h1_title": false,
   "title_cell": "Table of Contents",
   "title_sidebar": "Contents",
   "toc_cell": false,
   "toc_position": {
    "height": "calc(100% - 180px)",
    "left": "10px",
    "top": "150px",
    "width": "384px"
   },
   "toc_section_display": true,
   "toc_window_display": true
  }
 },
 "nbformat": 4,
 "nbformat_minor": 2
}
