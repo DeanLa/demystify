{
 "cells": [
  {
   "cell_type": "markdown",
   "metadata": {},
   "source": [
    "# Shapes"
   ]
  },
  {
   "cell_type": "markdown",
   "metadata": {},
   "source": [
    "## Basic Array"
   ]
  },
  {
   "cell_type": "code",
   "execution_count": 67,
   "metadata": {
    "ExecuteTime": {
     "end_time": "2020-02-13T21:02:01.412352Z",
     "start_time": "2020-02-13T21:02:01.403177Z"
    }
   },
   "outputs": [],
   "source": [
    "class Arr:\n",
    "    def __init__(self, data):\n",
    "        data = [item for item in data]\n",
    "        self.dtype = dtype(data)\n",
    "        self.data = [self.dtype(item) for item in data]\n",
    "\n",
    "    def __str__(self):\n",
    "        return (f\"Arr: {self.data}\")\n",
    "\n",
    "    __repr__ = __str__\n",
    "\n",
    "    def __len__(self):\n",
    "        return len(self.data)\n",
    "\n",
    "    def __iter__(self):\n",
    "        return iter(self.data)\n",
    "\n",
    "    ### Math\n",
    "\n",
    "    def __add__(self, other):\n",
    "        return zip_apply(self, other, self.dtype.__add__)\n",
    "\n",
    "    def __sub__(self, other):\n",
    "        return zip_apply(self, other, self.dtype.__sub__)\n",
    "\n",
    "    def __mul__(self, other):\n",
    "        return zip_apply(self, other, self.dtype.__mul__)\n",
    "\n",
    "    def __truediv__(self, other):\n",
    "        return zip_apply(self, other, self.dtype.__truediv__)\n",
    "\n",
    "    def __abs__(self):\n",
    "        return Arr(map(self.dtype.__abs__, self.data))\n",
    "\n",
    "\n",
    "def zip_apply(left, right, f):\n",
    "    # Length is the same\n",
    "    assert len(left) == len(right), f'arrays are not of same shape'\n",
    "    # Type is the same\n",
    "    assert dtype(left) == dtype(right), f'Arrays are not of same dtype'\n",
    "    # We can do the work\n",
    "    result = [f(l, r) for (l, r) in zip(left, right)]\n",
    "    return Arr(result)\n",
    "\n",
    "\n",
    "def dtype(obj):\n",
    "    \"\"\"Returns the dtype of the array\"\"\"\n",
    "    dtype = int\n",
    "    for item in obj:\n",
    "        itype = type(item)\n",
    "        if itype == str:  # str is the largest, so dtype is str\n",
    "            return str\n",
    "        if itype == float:  # We haven't seen str by now so type is either float or int\n",
    "            dtype = float\n",
    "    return dtype"
   ]
  },
  {
   "cell_type": "markdown",
   "metadata": {},
   "source": [
    "# Shape Method\n",
    "Behind the scenes, the array is not \"aware\" of it having a shape, or that it has dimensions. Shape and dimensions are metadata which we use when we do operations."
   ]
  },
  {
   "cell_type": "code",
   "execution_count": 68,
   "metadata": {
    "ExecuteTime": {
     "end_time": "2020-02-13T21:02:02.447886Z",
     "start_time": "2020-02-13T21:02:02.440873Z"
    }
   },
   "outputs": [],
   "source": [
    "class Arr(Arr):\n",
    "    def __init__(self, data):\n",
    "        data = [item for item in data]\n",
    "        self.dtype = dtype(data)\n",
    "        self.data = [self.dtype(item) for item in data]\n",
    "        ### New Code\n",
    "        self.size = len(self.data) # Because len will be something else\n",
    "        self.shape = (self.size,)\n",
    "        self.ndim = len(self.shape)"
   ]
  },
  {
   "cell_type": "code",
   "execution_count": 69,
   "metadata": {
    "ExecuteTime": {
     "end_time": "2020-02-13T21:02:02.826334Z",
     "start_time": "2020-02-13T21:02:02.821705Z"
    }
   },
   "outputs": [
    {
     "name": "stdout",
     "output_type": "stream",
     "text": [
      "(16,)\n",
      "1\n",
      "Arr: [0, 1, 2, 3, 4, 5, 6, 7, 8, 9, 10, 11, 12, 13, 14, 15]\n"
     ]
    }
   ],
   "source": [
    "arr = Arr(range(16))\n",
    "print(arr.shape)\n",
    "print(arr.ndim)\n",
    "print(arr)"
   ]
  },
  {
   "cell_type": "code",
   "execution_count": 70,
   "metadata": {
    "ExecuteTime": {
     "end_time": "2020-02-13T21:02:03.281298Z",
     "start_time": "2020-02-13T21:02:03.277043Z"
    }
   },
   "outputs": [
    {
     "name": "stdout",
     "output_type": "stream",
     "text": [
      "Arr: [0, 1, 2, 3, 4, 5, 6, 7, 8, 9, 10, 11, 12, 13, 14, 15]\n"
     ]
    }
   ],
   "source": [
    "arr.shape = (4,4)\n",
    "arr.ndim = 2\n",
    "print (arr)"
   ]
  },
  {
   "cell_type": "markdown",
   "metadata": {},
   "source": [
    "Not what we expected"
   ]
  },
  {
   "cell_type": "markdown",
   "metadata": {},
   "source": [
    "## Better print for arrays"
   ]
  },
  {
   "cell_type": "code",
   "execution_count": 71,
   "metadata": {
    "ExecuteTime": {
     "end_time": "2020-02-13T21:02:05.122346Z",
     "start_time": "2020-02-13T21:02:05.117695Z"
    }
   },
   "outputs": [],
   "source": [
    "def print_array(arr):\n",
    "    ret = \"Arr: \\n\" # We will add more strings to this \"main\" string\n",
    "    if arr.ndim < 2: \n",
    "        ret += str(arr.data)\n",
    "    else:\n",
    "        rows, cols = arr.shape\n",
    "        for i, val in enumerate(arr.data):\n",
    "            ret += str(val).center(6) # str.center - check it out.\n",
    "            if i % cols == cols -1: # in \"real\" math this means i mod cols = -1\n",
    "                ret += '\\n'\n",
    "    \n",
    "    return ret"
   ]
  },
  {
   "cell_type": "code",
   "execution_count": 72,
   "metadata": {
    "ExecuteTime": {
     "end_time": "2020-02-13T21:02:05.502485Z",
     "start_time": "2020-02-13T21:02:05.499033Z"
    }
   },
   "outputs": [
    {
     "name": "stdout",
     "output_type": "stream",
     "text": [
      "Arr: \n",
      "[0, 1, 2, 3, 4, 5, 6, 7, 8, 9, 10, 11, 12, 13, 14, 15]\n"
     ]
    }
   ],
   "source": [
    "arr = Arr(range(16))\n",
    "print(print_array(arr))"
   ]
  },
  {
   "cell_type": "code",
   "execution_count": 73,
   "metadata": {
    "ExecuteTime": {
     "end_time": "2020-02-13T21:02:06.063895Z",
     "start_time": "2020-02-13T21:02:06.059756Z"
    }
   },
   "outputs": [
    {
     "name": "stdout",
     "output_type": "stream",
     "text": [
      "Arr: \n",
      "  0     1     2     3   \n",
      "  4     5     6     7   \n",
      "  8     9     10    11  \n",
      "  12    13    14    15  \n",
      "\n"
     ]
    }
   ],
   "source": [
    "arr.shape = (4,4)\n",
    "arr.ndim = 2\n",
    "print(print_array(arr))"
   ]
  },
  {
   "cell_type": "markdown",
   "metadata": {},
   "source": [
    "**IT WORKS** Let's make this official."
   ]
  },
  {
   "cell_type": "code",
   "execution_count": 74,
   "metadata": {
    "ExecuteTime": {
     "end_time": "2020-02-13T21:02:06.909228Z",
     "start_time": "2020-02-13T21:02:06.905737Z"
    }
   },
   "outputs": [],
   "source": [
    "Arr.__str__ = print_array\n",
    "Arr.__repr__ = print_array"
   ]
  },
  {
   "cell_type": "code",
   "execution_count": 75,
   "metadata": {
    "ExecuteTime": {
     "end_time": "2020-02-13T21:02:07.216856Z",
     "start_time": "2020-02-13T21:02:07.211043Z"
    }
   },
   "outputs": [
    {
     "data": {
      "text/plain": [
       "Arr: \n",
       "  0     1     2     3   \n",
       "  4     5     6     7   \n",
       "  8     9     10    11  \n",
       "  12    13    14    15  "
      ]
     },
     "execution_count": 75,
     "metadata": {},
     "output_type": "execute_result"
    }
   ],
   "source": [
    "arr"
   ]
  },
  {
   "cell_type": "markdown",
   "metadata": {},
   "source": [
    "# Reshape\n",
    "Setting the `shape` is dangerous. It requires also changing the `ndim` and does check if the new shape makes sense"
   ]
  },
  {
   "cell_type": "markdown",
   "metadata": {},
   "source": [
    "## (Bad) Examples"
   ]
  },
  {
   "cell_type": "code",
   "execution_count": 76,
   "metadata": {
    "ExecuteTime": {
     "end_time": "2020-02-13T21:02:07.966297Z",
     "start_time": "2020-02-13T21:02:07.961307Z"
    }
   },
   "outputs": [
    {
     "data": {
      "text/plain": [
       "Arr: \n",
       "[0, 1, 2, 3, 4, 5, 6, 7, 8, 9, 10, 11, 12, 13, 14, 15]"
      ]
     },
     "execution_count": 76,
     "metadata": {},
     "output_type": "execute_result"
    }
   ],
   "source": [
    "arr = Arr(range(16))\n",
    "arr.shape = (4,4)\n",
    "arr"
   ]
  },
  {
   "cell_type": "code",
   "execution_count": 77,
   "metadata": {
    "ExecuteTime": {
     "end_time": "2020-02-13T21:02:08.138361Z",
     "start_time": "2020-02-13T21:02:08.134459Z"
    }
   },
   "outputs": [
    {
     "name": "stdout",
     "output_type": "stream",
     "text": [
      "not enough values to unpack (expected 2, got 1)\n"
     ]
    }
   ],
   "source": [
    "arr = Arr(range(16))\n",
    "arr.ndim = 2\n",
    "try:\n",
    "    print (arr)\n",
    "except Exception as e:\n",
    "    print(e)"
   ]
  },
  {
   "cell_type": "code",
   "execution_count": 78,
   "metadata": {
    "ExecuteTime": {
     "end_time": "2020-02-13T21:02:08.319217Z",
     "start_time": "2020-02-13T21:02:08.314414Z"
    }
   },
   "outputs": [
    {
     "data": {
      "text/plain": [
       "Arr: \n",
       "  0     1     2     3   \n",
       "  4     5     6     7   \n",
       "  8     9     10    11  \n",
       "  12    13    14    15  "
      ]
     },
     "execution_count": 78,
     "metadata": {},
     "output_type": "execute_result"
    }
   ],
   "source": [
    "arr = Arr(range(16))\n",
    "arr.ndim = 2\n",
    "arr.shape = (-3,4)\n",
    "arr"
   ]
  },
  {
   "cell_type": "markdown",
   "metadata": {},
   "source": [
    "## `Arr.reshape`\n",
    "Requirements:  \n",
    "* Change shape and ndim always together.\n",
    "* Make sure rows * cols = size\n",
    "* Have the option to change to either 1 dim or 2.\n",
    "    * example: `arr.reshape(4,4)` or `arr.reshape(16)` both acceptable\n",
    "* BONUS: have an option set one of the dimensions as -1 and have the array do the math."
   ]
  },
  {
   "cell_type": "code",
   "execution_count": 79,
   "metadata": {
    "ExecuteTime": {
     "end_time": "2020-02-13T21:02:08.714242Z",
     "start_time": "2020-02-13T21:02:08.709379Z"
    }
   },
   "outputs": [],
   "source": [
    "# Ex\n",
    "class Arr(Arr):\n",
    "    def reshape(self, rows, cols=None):\n",
    "        ret = Arr(self.data)\n",
    "        # BOE\n",
    "        if cols is None:\n",
    "            ret = ret.reshape(rows, 1)\n",
    "            ret.shape = (ret.shape[0],)\n",
    "            ret.ndim = len(ret.shape)\n",
    "            return ret\n",
    "        elif cols == -1:\n",
    "            assert self.size % rows == 0, f\"rows must be divide {self.size} without a remainder\"\n",
    "            cols = self.size // rows\n",
    "        elif rows == -1:\n",
    "            assert self.size % cols == 0, f\"cols must be divide {self.size} without a remainder\"\n",
    "            rows = self.size // cols\n",
    "        assert rows * cols == len(self.data), (f\"cannot reshape data with {self.size}\"\n",
    "                                               f\" values to shape ({rows},{cols})\")\n",
    "        ret.shape = (rows, cols)\n",
    "        ret.ndim = len(ret.shape)\n",
    "        # EOE\n",
    "        return ret\n",
    "        "
   ]
  },
  {
   "cell_type": "code",
   "execution_count": 80,
   "metadata": {
    "ExecuteTime": {
     "end_time": "2020-02-13T21:02:08.920735Z",
     "start_time": "2020-02-13T21:02:08.916428Z"
    }
   },
   "outputs": [
    {
     "data": {
      "text/plain": [
       "Arr: \n",
       "[0, 1, 2, 3, 4, 5, 6, 7, 8, 9, 10, 11, 12, 13, 14, 15]"
      ]
     },
     "execution_count": 80,
     "metadata": {},
     "output_type": "execute_result"
    }
   ],
   "source": [
    "arr = Arr(range(16))\n",
    "arr.reshape(-1)"
   ]
  },
  {
   "cell_type": "code",
   "execution_count": 81,
   "metadata": {
    "ExecuteTime": {
     "end_time": "2020-02-13T21:02:09.118879Z",
     "start_time": "2020-02-13T21:02:09.114443Z"
    }
   },
   "outputs": [
    {
     "data": {
      "text/plain": [
       "Arr: \n",
       "  0     1     2     3   \n",
       "  4     5     6     7   \n",
       "  8     9     10    11  \n",
       "  12    13    14    15  "
      ]
     },
     "execution_count": 81,
     "metadata": {},
     "output_type": "execute_result"
    }
   ],
   "source": [
    "arr.reshape(4,4)"
   ]
  },
  {
   "cell_type": "code",
   "execution_count": 82,
   "metadata": {
    "ExecuteTime": {
     "end_time": "2020-02-13T21:02:09.729872Z",
     "start_time": "2020-02-13T21:02:09.725429Z"
    }
   },
   "outputs": [
    {
     "data": {
      "text/plain": [
       "Arr: \n",
       "  0     1     2     3     4     5     6     7   \n",
       "  8     9     10    11    12    13    14    15  "
      ]
     },
     "execution_count": 82,
     "metadata": {},
     "output_type": "execute_result"
    }
   ],
   "source": [
    "arr.reshape(2,-1)"
   ]
  },
  {
   "cell_type": "code",
   "execution_count": 83,
   "metadata": {
    "ExecuteTime": {
     "end_time": "2020-02-13T21:02:09.954186Z",
     "start_time": "2020-02-13T21:02:09.950272Z"
    }
   },
   "outputs": [
    {
     "data": {
      "text/plain": [
       "Arr: \n",
       "  0     1   \n",
       "  2     3   \n",
       "  4     5   \n",
       "  6     7   \n",
       "  8     9   \n",
       "  10    11  \n",
       "  12    13  \n",
       "  14    15  "
      ]
     },
     "execution_count": 83,
     "metadata": {},
     "output_type": "execute_result"
    }
   ],
   "source": [
    "arr.reshape(-1,2)"
   ]
  },
  {
   "cell_type": "code",
   "execution_count": 84,
   "metadata": {
    "ExecuteTime": {
     "end_time": "2020-02-13T21:02:10.884333Z",
     "start_time": "2020-02-13T21:02:10.874102Z"
    }
   },
   "outputs": [
    {
     "ename": "AssertionError",
     "evalue": "cannot reshape data with 16 values to shape (5,3)",
     "output_type": "error",
     "traceback": [
      "\u001b[0;31m---------------------------------------------------------------------------\u001b[0m",
      "\u001b[0;31mAssertionError\u001b[0m                            Traceback (most recent call last)",
      "\u001b[0;32m<ipython-input-84-62f360b6088c>\u001b[0m in \u001b[0;36m<module>\u001b[0;34m\u001b[0m\n\u001b[0;32m----> 1\u001b[0;31m \u001b[0marr\u001b[0m\u001b[0;34m.\u001b[0m\u001b[0mreshape\u001b[0m\u001b[0;34m(\u001b[0m\u001b[0;36m5\u001b[0m\u001b[0;34m,\u001b[0m\u001b[0;36m3\u001b[0m\u001b[0;34m)\u001b[0m\u001b[0;34m\u001b[0m\u001b[0;34m\u001b[0m\u001b[0m\n\u001b[0m",
      "\u001b[0;32m<ipython-input-79-39e7fa405b1f>\u001b[0m in \u001b[0;36mreshape\u001b[0;34m(self, rows, cols)\u001b[0m\n\u001b[1;32m     15\u001b[0m             \u001b[0;32massert\u001b[0m \u001b[0mself\u001b[0m\u001b[0;34m.\u001b[0m\u001b[0msize\u001b[0m \u001b[0;34m%\u001b[0m \u001b[0mcols\u001b[0m \u001b[0;34m==\u001b[0m \u001b[0;36m0\u001b[0m\u001b[0;34m,\u001b[0m \u001b[0;34mf\"cols must be divide {self.size} without a remainder\"\u001b[0m\u001b[0;34m\u001b[0m\u001b[0;34m\u001b[0m\u001b[0m\n\u001b[1;32m     16\u001b[0m             \u001b[0mrows\u001b[0m \u001b[0;34m=\u001b[0m \u001b[0mself\u001b[0m\u001b[0;34m.\u001b[0m\u001b[0msize\u001b[0m \u001b[0;34m//\u001b[0m \u001b[0mcols\u001b[0m\u001b[0;34m\u001b[0m\u001b[0;34m\u001b[0m\u001b[0m\n\u001b[0;32m---> 17\u001b[0;31m         assert rows * cols == len(self.data), (f\"cannot reshape data with {self.size}\"\n\u001b[0m\u001b[1;32m     18\u001b[0m                                                f\" values to shape ({rows},{cols})\")\n\u001b[1;32m     19\u001b[0m         \u001b[0mret\u001b[0m\u001b[0;34m.\u001b[0m\u001b[0mshape\u001b[0m \u001b[0;34m=\u001b[0m \u001b[0;34m(\u001b[0m\u001b[0mrows\u001b[0m\u001b[0;34m,\u001b[0m \u001b[0mcols\u001b[0m\u001b[0;34m)\u001b[0m\u001b[0;34m\u001b[0m\u001b[0;34m\u001b[0m\u001b[0m\n",
      "\u001b[0;31mAssertionError\u001b[0m: cannot reshape data with 16 values to shape (5,3)"
     ]
    }
   ],
   "source": [
    "arr.reshape(5,3) # Error"
   ]
  },
  {
   "cell_type": "code",
   "execution_count": 85,
   "metadata": {
    "ExecuteTime": {
     "end_time": "2020-02-13T21:02:11.264673Z",
     "start_time": "2020-02-13T21:02:11.255471Z"
    }
   },
   "outputs": [
    {
     "ename": "AssertionError",
     "evalue": "cols must be divide 16 without a remainder",
     "output_type": "error",
     "traceback": [
      "\u001b[0;31m---------------------------------------------------------------------------\u001b[0m",
      "\u001b[0;31mAssertionError\u001b[0m                            Traceback (most recent call last)",
      "\u001b[0;32m<ipython-input-85-828f91ad135a>\u001b[0m in \u001b[0;36m<module>\u001b[0;34m\u001b[0m\n\u001b[0;32m----> 1\u001b[0;31m \u001b[0marr\u001b[0m\u001b[0;34m.\u001b[0m\u001b[0mreshape\u001b[0m\u001b[0;34m(\u001b[0m\u001b[0;34m-\u001b[0m\u001b[0;36m1\u001b[0m\u001b[0;34m,\u001b[0m\u001b[0;36m7\u001b[0m\u001b[0;34m)\u001b[0m\u001b[0;34m\u001b[0m\u001b[0;34m\u001b[0m\u001b[0m\n\u001b[0m",
      "\u001b[0;32m<ipython-input-79-39e7fa405b1f>\u001b[0m in \u001b[0;36mreshape\u001b[0;34m(self, rows, cols)\u001b[0m\n\u001b[1;32m     13\u001b[0m             \u001b[0mcols\u001b[0m \u001b[0;34m=\u001b[0m \u001b[0mself\u001b[0m\u001b[0;34m.\u001b[0m\u001b[0msize\u001b[0m \u001b[0;34m//\u001b[0m \u001b[0mrows\u001b[0m\u001b[0;34m\u001b[0m\u001b[0;34m\u001b[0m\u001b[0m\n\u001b[1;32m     14\u001b[0m         \u001b[0;32melif\u001b[0m \u001b[0mrows\u001b[0m \u001b[0;34m==\u001b[0m \u001b[0;34m-\u001b[0m\u001b[0;36m1\u001b[0m\u001b[0;34m:\u001b[0m\u001b[0;34m\u001b[0m\u001b[0;34m\u001b[0m\u001b[0m\n\u001b[0;32m---> 15\u001b[0;31m             \u001b[0;32massert\u001b[0m \u001b[0mself\u001b[0m\u001b[0;34m.\u001b[0m\u001b[0msize\u001b[0m \u001b[0;34m%\u001b[0m \u001b[0mcols\u001b[0m \u001b[0;34m==\u001b[0m \u001b[0;36m0\u001b[0m\u001b[0;34m,\u001b[0m \u001b[0;34mf\"cols must be divide {self.size} without a remainder\"\u001b[0m\u001b[0;34m\u001b[0m\u001b[0;34m\u001b[0m\u001b[0m\n\u001b[0m\u001b[1;32m     16\u001b[0m             \u001b[0mrows\u001b[0m \u001b[0;34m=\u001b[0m \u001b[0mself\u001b[0m\u001b[0;34m.\u001b[0m\u001b[0msize\u001b[0m \u001b[0;34m//\u001b[0m \u001b[0mcols\u001b[0m\u001b[0;34m\u001b[0m\u001b[0;34m\u001b[0m\u001b[0m\n\u001b[1;32m     17\u001b[0m         assert rows * cols == len(self.data), (f\"cannot reshape data with {self.size}\"\n",
      "\u001b[0;31mAssertionError\u001b[0m: cols must be divide 16 without a remainder"
     ]
    }
   ],
   "source": [
    "arr.reshape(-1,7) # Error"
   ]
  },
  {
   "cell_type": "markdown",
   "metadata": {},
   "source": [
    "## fix `len`"
   ]
  },
  {
   "cell_type": "code",
   "execution_count": 88,
   "metadata": {
    "ExecuteTime": {
     "end_time": "2020-02-13T21:03:29.990899Z",
     "start_time": "2020-02-13T21:03:29.987984Z"
    }
   },
   "outputs": [],
   "source": [
    "class Arr(Arr):\n",
    "    def __len__(self):\n",
    "        return self.shape[0]"
   ]
  },
  {
   "cell_type": "markdown",
   "metadata": {},
   "source": [
    "# Slicing with `__getitem__`\n",
    "We want to be able to [slice](Supplemental%20-%20Minimals.ipynb#Get-Item) an array. We will implement `arr[n:m]` or `arr[n1:m1,n2:m2]`"
   ]
  },
  {
   "cell_type": "code",
   "execution_count": 91,
   "metadata": {
    "ExecuteTime": {
     "end_time": "2020-02-13T21:14:36.003149Z",
     "start_time": "2020-02-13T21:14:35.995222Z"
    }
   },
   "outputs": [
    {
     "ename": "TypeError",
     "evalue": "'Arr' object is not subscriptable",
     "output_type": "error",
     "traceback": [
      "\u001b[0;31m---------------------------------------------------------------------------\u001b[0m",
      "\u001b[0;31mTypeError\u001b[0m                                 Traceback (most recent call last)",
      "\u001b[0;32m<ipython-input-91-3d901ef26ce6>\u001b[0m in \u001b[0;36m<module>\u001b[0;34m\u001b[0m\n\u001b[1;32m      1\u001b[0m \u001b[0mb\u001b[0m \u001b[0;34m=\u001b[0m \u001b[0marr\u001b[0m\u001b[0;34m.\u001b[0m\u001b[0mreshape\u001b[0m\u001b[0;34m(\u001b[0m\u001b[0;36m4\u001b[0m\u001b[0;34m,\u001b[0m\u001b[0;36m4\u001b[0m\u001b[0;34m)\u001b[0m\u001b[0;34m\u001b[0m\u001b[0;34m\u001b[0m\u001b[0m\n\u001b[0;32m----> 2\u001b[0;31m \u001b[0mb\u001b[0m\u001b[0;34m[\u001b[0m\u001b[0;36m3\u001b[0m\u001b[0;34m]\u001b[0m\u001b[0;34m\u001b[0m\u001b[0;34m\u001b[0m\u001b[0m\n\u001b[0m",
      "\u001b[0;31mTypeError\u001b[0m: 'Arr' object is not subscriptable"
     ]
    }
   ],
   "source": [
    "b = arr.reshape(4,4)\n",
    "b[3]"
   ]
  },
  {
   "cell_type": "markdown",
   "metadata": {},
   "source": [
    "## The Easy Part\n",
    "If the array is 1-dim, it works as a list"
   ]
  },
  {
   "cell_type": "code",
   "execution_count": 114,
   "metadata": {
    "ExecuteTime": {
     "end_time": "2020-02-13T21:31:34.644681Z",
     "start_time": "2020-02-13T21:31:34.640415Z"
    },
    "code_folding": []
   },
   "outputs": [],
   "source": [
    "def arr_getter(arr, items):\n",
    "    if not isinstance(items, tuple):  # got only one slicer\n",
    "        items = (items,)\n",
    "    assert arr.ndim >= len(items), 'More slicers than ndim'\n",
    "    if arr.ndim == 1:\n",
    "        return arr.data[items[0]]\n",
    "    if arr.ndim == 2:\n",
    "        raise Exception('not supported')"
   ]
  },
  {
   "cell_type": "code",
   "execution_count": 112,
   "metadata": {
    "ExecuteTime": {
     "end_time": "2020-02-13T21:31:25.550301Z",
     "start_time": "2020-02-13T21:31:25.544318Z"
    }
   },
   "outputs": [
    {
     "data": {
      "text/plain": [
       "[3, 4, 5, 6, 7]"
      ]
     },
     "execution_count": 112,
     "metadata": {},
     "output_type": "execute_result"
    }
   ],
   "source": [
    "arr_getter(a, slice(3,8))"
   ]
  },
  {
   "cell_type": "code",
   "execution_count": 115,
   "metadata": {
    "ExecuteTime": {
     "end_time": "2020-02-13T21:31:35.863344Z",
     "start_time": "2020-02-13T21:31:35.853218Z"
    }
   },
   "outputs": [
    {
     "ename": "Exception",
     "evalue": "not supported",
     "output_type": "error",
     "traceback": [
      "\u001b[0;31m---------------------------------------------------------------------------\u001b[0m",
      "\u001b[0;31mException\u001b[0m                                 Traceback (most recent call last)",
      "\u001b[0;32m<ipython-input-115-32301156ed29>\u001b[0m in \u001b[0;36m<module>\u001b[0;34m\u001b[0m\n\u001b[0;32m----> 1\u001b[0;31m \u001b[0marr_getter\u001b[0m\u001b[0;34m(\u001b[0m\u001b[0mb\u001b[0m\u001b[0;34m,\u001b[0m \u001b[0mslice\u001b[0m\u001b[0;34m(\u001b[0m\u001b[0;36m3\u001b[0m\u001b[0;34m,\u001b[0m\u001b[0;36m8\u001b[0m\u001b[0;34m)\u001b[0m\u001b[0;34m)\u001b[0m\u001b[0;34m\u001b[0m\u001b[0;34m\u001b[0m\u001b[0m\n\u001b[0m",
      "\u001b[0;32m<ipython-input-114-c4ffe8bc9839>\u001b[0m in \u001b[0;36marr_getter\u001b[0;34m(arr, items)\u001b[0m\n\u001b[1;32m      6\u001b[0m         \u001b[0;32mreturn\u001b[0m \u001b[0marr\u001b[0m\u001b[0;34m.\u001b[0m\u001b[0mdata\u001b[0m\u001b[0;34m[\u001b[0m\u001b[0mitems\u001b[0m\u001b[0;34m[\u001b[0m\u001b[0;36m0\u001b[0m\u001b[0;34m]\u001b[0m\u001b[0;34m]\u001b[0m\u001b[0;34m\u001b[0m\u001b[0;34m\u001b[0m\u001b[0m\n\u001b[1;32m      7\u001b[0m     \u001b[0;32mif\u001b[0m \u001b[0marr\u001b[0m\u001b[0;34m.\u001b[0m\u001b[0mndim\u001b[0m \u001b[0;34m==\u001b[0m \u001b[0;36m2\u001b[0m\u001b[0;34m:\u001b[0m\u001b[0;34m\u001b[0m\u001b[0;34m\u001b[0m\u001b[0m\n\u001b[0;32m----> 8\u001b[0;31m         \u001b[0;32mraise\u001b[0m \u001b[0mException\u001b[0m\u001b[0;34m(\u001b[0m\u001b[0;34m'not supported'\u001b[0m\u001b[0;34m)\u001b[0m\u001b[0;34m\u001b[0m\u001b[0;34m\u001b[0m\u001b[0m\n\u001b[0m",
      "\u001b[0;31mException\u001b[0m: not supported"
     ]
    }
   ],
   "source": [
    "arr_getter(b, slice(3,8))"
   ]
  },
  {
   "cell_type": "code",
   "execution_count": 119,
   "metadata": {
    "ExecuteTime": {
     "end_time": "2020-02-13T21:34:38.668380Z",
     "start_time": "2020-02-13T21:34:38.663928Z"
    }
   },
   "outputs": [
    {
     "data": {
      "text/plain": [
       "[4, 5, 6, 7, 8, 9]"
      ]
     },
     "execution_count": 119,
     "metadata": {},
     "output_type": "execute_result"
    }
   ],
   "source": [
    "Arr.__getitem__ = lambda self, items: arr_getter(arr, items)\n",
    "Arr(range(16))[4:10]"
   ]
  },
  {
   "cell_type": "markdown",
   "metadata": {},
   "source": [
    "## 2 Dimensions\n",
    "Now this becomes complicated. We get 2 slices. For each slice we have `start,stop,step`.  \n",
    "Algorithm:\n",
    "1. Find the first index corresponding to coordinates (row_start, col_start)\n",
    "1. Move to next index according to correct step.\n",
    "1. Finish when we reached correct size."
   ]
  },
  {
   "cell_type": "markdown",
   "metadata": {},
   "source": [
    "### Some helper functions\n",
    "* Move between coordinates to index and back.\n",
    "* Get `len` of new `arr.data` by the slices."
   ]
  },
  {
   "cell_type": "code",
   "execution_count": 136,
   "metadata": {
    "ExecuteTime": {
     "end_time": "2020-02-13T23:05:18.813483Z",
     "start_time": "2020-02-13T23:05:18.807662Z"
    }
   },
   "outputs": [],
   "source": [
    "def indices2len(start, stop, step):\n",
    "    if step > 0:\n",
    "        return (stop - start - 1) // step + 1\n",
    "    elif step == 0:\n",
    "        return 1\n",
    "    else:\n",
    "        # No reversing\n",
    "        raise ValueError\n",
    "        \n",
    "\n",
    "def coord2idx(arr, row, col):\n",
    "    return row * arr.shape[1] + col\n",
    "\n",
    "def idx2coord(arr, idx):\n",
    "    row = idx // arr.shape[1]\n",
    "    col = idx % arr.shape[0]\n",
    "    return row, col"
   ]
  },
  {
   "cell_type": "code",
   "execution_count": 159,
   "metadata": {
    "ExecuteTime": {
     "end_time": "2020-02-13T23:09:51.499678Z",
     "start_time": "2020-02-13T23:09:51.493456Z"
    }
   },
   "outputs": [],
   "source": [
    "def arr_getter(arr, items):\n",
    "    if not isinstance(items, tuple):  # got only one slicer\n",
    "        items = (items,)\n",
    "    assert arr.ndim >= len(items), f'More slicers ({len(items)}) than dimensions ({arr.ndim})'\n",
    "    if arr.ndim == 1:\n",
    "        return arr.data[items[0]]\n",
    "    if arr.ndim == 2:\n",
    "        r_start, r_stop, r_step = items[0].indices(arr.shape[0])\n",
    "        c_start, c_stop, c_step = items[1].indices(arr.shape[1])\n",
    "        new_shape = (indices2len(r_start, r_stop, r_step), indices2len(c_start, c_stop, c_step))\n",
    "        return array_iterator(arr, new_shape, r_start, r_step, r_stop, c_step, c_stop, c_start)"
   ]
  },
  {
   "cell_type": "code",
   "execution_count": 173,
   "metadata": {
    "ExecuteTime": {
     "end_time": "2020-02-13T23:42:05.498677Z",
     "start_time": "2020-02-13T23:42:05.493992Z"
    }
   },
   "outputs": [],
   "source": [
    "def array_iterator(arr, new_shape, r_start, r_step, r_stop, c_step, c_stop, c_start):\n",
    "    r_index, c_index = r_start, c_start # index is set to start\n",
    "    ret = [] # We will populate this\n",
    "    for _ in range(new_shape[0] * new_shape[1]):\n",
    "        if c_index >= c_stop:\n",
    "            # We reached end of line\n",
    "            c_index = c_start # Go back to start of line which is first coloumn\n",
    "            r_index += r_step # Advance the row\n",
    "        if r_index >= r_stop:\n",
    "            # We reached the end\n",
    "            break\n",
    "        _index = coord2idx(arr, r_index, c_index) # Which index to take from the data\n",
    "        try:\n",
    "            ret.append(arr.data[_index])\n",
    "        except IndexError:\n",
    "            break\n",
    "        c_index += c_step\n",
    "    ret = Arr(ret).reshape(*new_shape)\n",
    "    return ret"
   ]
  },
  {
   "cell_type": "code",
   "execution_count": 161,
   "metadata": {
    "ExecuteTime": {
     "end_time": "2020-02-13T23:09:51.939703Z",
     "start_time": "2020-02-13T23:09:51.935066Z"
    }
   },
   "outputs": [
    {
     "data": {
      "text/plain": [
       "Arr: \n",
       "  0     1     2     3   \n",
       "  4     5     6     7   \n",
       "  8     9     10    11  \n",
       "  12    13    14    15  "
      ]
     },
     "execution_count": 161,
     "metadata": {},
     "output_type": "execute_result"
    }
   ],
   "source": [
    "arr_getter(b,(slice(None),slice(None)))"
   ]
  },
  {
   "cell_type": "code",
   "execution_count": 162,
   "metadata": {
    "ExecuteTime": {
     "end_time": "2020-02-13T23:09:52.327588Z",
     "start_time": "2020-02-13T23:09:52.322223Z"
    }
   },
   "outputs": [
    {
     "data": {
      "text/plain": [
       "Arr: \n",
       "  4     6   \n",
       "  8     10  \n",
       "  12    14  "
      ]
     },
     "execution_count": 162,
     "metadata": {},
     "output_type": "execute_result"
    }
   ],
   "source": [
    "arr_getter(b,(slice(1,None),slice(None,None,2)))"
   ]
  },
  {
   "cell_type": "code",
   "execution_count": 167,
   "metadata": {
    "ExecuteTime": {
     "end_time": "2020-02-13T23:10:17.993757Z",
     "start_time": "2020-02-13T23:10:17.990736Z"
    }
   },
   "outputs": [],
   "source": [
    "del(arr)"
   ]
  },
  {
   "cell_type": "code",
   "execution_count": 184,
   "metadata": {
    "ExecuteTime": {
     "end_time": "2020-02-13T23:55:09.567329Z",
     "start_time": "2020-02-13T23:55:09.562165Z"
    }
   },
   "outputs": [
    {
     "data": {
      "text/plain": [
       "Arr: \n",
       "  4     6   \n",
       "  8     10  \n",
       "  12    14  "
      ]
     },
     "execution_count": 184,
     "metadata": {},
     "output_type": "execute_result"
    }
   ],
   "source": [
    "Arr.__getitem__ = lambda self, items: arr_getter(self, items)\n",
    "b = Arr(range(16)).reshape(4,4)\n",
    "b[1:,::2]"
   ]
  },
  {
   "cell_type": "markdown",
   "metadata": {},
   "source": [
    "## Exercise\n",
    "The following will not work. Fix them."
   ]
  },
  {
   "cell_type": "code",
   "execution_count": 171,
   "metadata": {
    "ExecuteTime": {
     "end_time": "2020-02-13T23:15:23.363005Z",
     "start_time": "2020-02-13T23:15:23.352302Z"
    }
   },
   "outputs": [
    {
     "ename": "IndexError",
     "evalue": "tuple index out of range",
     "output_type": "error",
     "traceback": [
      "\u001b[0;31m---------------------------------------------------------------------------\u001b[0m",
      "\u001b[0;31mIndexError\u001b[0m                                Traceback (most recent call last)",
      "\u001b[0;32m<ipython-input-171-8bc32ef7111a>\u001b[0m in \u001b[0;36m<module>\u001b[0;34m\u001b[0m\n\u001b[0;32m----> 1\u001b[0;31m \u001b[0mb\u001b[0m\u001b[0;34m[\u001b[0m\u001b[0;36m1\u001b[0m\u001b[0;34m:\u001b[0m\u001b[0;34m]\u001b[0m \u001b[0;31m# If only one index is given, it means rows.\u001b[0m\u001b[0;34m\u001b[0m\u001b[0;34m\u001b[0m\u001b[0m\n\u001b[0m",
      "\u001b[0;32m<ipython-input-169-c7fb5d5dccdf>\u001b[0m in \u001b[0;36m<lambda>\u001b[0;34m(self, items)\u001b[0m\n\u001b[0;32m----> 1\u001b[0;31m \u001b[0mArr\u001b[0m\u001b[0;34m.\u001b[0m\u001b[0m__getitem__\u001b[0m \u001b[0;34m=\u001b[0m \u001b[0;32mlambda\u001b[0m \u001b[0mself\u001b[0m\u001b[0;34m,\u001b[0m \u001b[0mitems\u001b[0m\u001b[0;34m:\u001b[0m \u001b[0marr_getter\u001b[0m\u001b[0;34m(\u001b[0m\u001b[0mself\u001b[0m\u001b[0;34m,\u001b[0m \u001b[0mitems\u001b[0m\u001b[0;34m)\u001b[0m\u001b[0;34m\u001b[0m\u001b[0;34m\u001b[0m\u001b[0m\n\u001b[0m\u001b[1;32m      2\u001b[0m \u001b[0mb\u001b[0m \u001b[0;34m=\u001b[0m \u001b[0mArr\u001b[0m\u001b[0;34m(\u001b[0m\u001b[0mrange\u001b[0m\u001b[0;34m(\u001b[0m\u001b[0;36m16\u001b[0m\u001b[0;34m)\u001b[0m\u001b[0;34m)\u001b[0m\u001b[0;34m.\u001b[0m\u001b[0mreshape\u001b[0m\u001b[0;34m(\u001b[0m\u001b[0;36m4\u001b[0m\u001b[0;34m,\u001b[0m\u001b[0;36m4\u001b[0m\u001b[0;34m)\u001b[0m\u001b[0;34m\u001b[0m\u001b[0;34m\u001b[0m\u001b[0m\n\u001b[1;32m      3\u001b[0m \u001b[0mprint\u001b[0m\u001b[0;34m(\u001b[0m\u001b[0mb\u001b[0m\u001b[0;34m.\u001b[0m\u001b[0mndim\u001b[0m\u001b[0;34m)\u001b[0m\u001b[0;34m\u001b[0m\u001b[0;34m\u001b[0m\u001b[0m\n\u001b[1;32m      4\u001b[0m \u001b[0mb\u001b[0m\u001b[0;34m[\u001b[0m\u001b[0;36m1\u001b[0m\u001b[0;34m:\u001b[0m\u001b[0;34m,\u001b[0m\u001b[0;34m:\u001b[0m\u001b[0;34m:\u001b[0m\u001b[0;36m2\u001b[0m\u001b[0;34m]\u001b[0m\u001b[0;34m\u001b[0m\u001b[0;34m\u001b[0m\u001b[0m\n",
      "\u001b[0;32m<ipython-input-159-76cab6b97c03>\u001b[0m in \u001b[0;36marr_getter\u001b[0;34m(arr, items)\u001b[0m\n\u001b[1;32m      7\u001b[0m     \u001b[0;32mif\u001b[0m \u001b[0marr\u001b[0m\u001b[0;34m.\u001b[0m\u001b[0mndim\u001b[0m \u001b[0;34m==\u001b[0m \u001b[0;36m2\u001b[0m\u001b[0;34m:\u001b[0m\u001b[0;34m\u001b[0m\u001b[0;34m\u001b[0m\u001b[0m\n\u001b[1;32m      8\u001b[0m         \u001b[0mr_start\u001b[0m\u001b[0;34m,\u001b[0m \u001b[0mr_stop\u001b[0m\u001b[0;34m,\u001b[0m \u001b[0mr_step\u001b[0m \u001b[0;34m=\u001b[0m \u001b[0mitems\u001b[0m\u001b[0;34m[\u001b[0m\u001b[0;36m0\u001b[0m\u001b[0;34m]\u001b[0m\u001b[0;34m.\u001b[0m\u001b[0mindices\u001b[0m\u001b[0;34m(\u001b[0m\u001b[0marr\u001b[0m\u001b[0;34m.\u001b[0m\u001b[0mshape\u001b[0m\u001b[0;34m[\u001b[0m\u001b[0;36m0\u001b[0m\u001b[0;34m]\u001b[0m\u001b[0;34m)\u001b[0m\u001b[0;34m\u001b[0m\u001b[0;34m\u001b[0m\u001b[0m\n\u001b[0;32m----> 9\u001b[0;31m         \u001b[0mc_start\u001b[0m\u001b[0;34m,\u001b[0m \u001b[0mc_stop\u001b[0m\u001b[0;34m,\u001b[0m \u001b[0mc_step\u001b[0m \u001b[0;34m=\u001b[0m \u001b[0mitems\u001b[0m\u001b[0;34m[\u001b[0m\u001b[0;36m1\u001b[0m\u001b[0;34m]\u001b[0m\u001b[0;34m.\u001b[0m\u001b[0mindices\u001b[0m\u001b[0;34m(\u001b[0m\u001b[0marr\u001b[0m\u001b[0;34m.\u001b[0m\u001b[0mshape\u001b[0m\u001b[0;34m[\u001b[0m\u001b[0;36m1\u001b[0m\u001b[0;34m]\u001b[0m\u001b[0;34m)\u001b[0m\u001b[0;34m\u001b[0m\u001b[0;34m\u001b[0m\u001b[0m\n\u001b[0m\u001b[1;32m     10\u001b[0m         \u001b[0mnew_shape\u001b[0m \u001b[0;34m=\u001b[0m \u001b[0;34m(\u001b[0m\u001b[0mindices2len\u001b[0m\u001b[0;34m(\u001b[0m\u001b[0mr_start\u001b[0m\u001b[0;34m,\u001b[0m \u001b[0mr_stop\u001b[0m\u001b[0;34m,\u001b[0m \u001b[0mr_step\u001b[0m\u001b[0;34m)\u001b[0m\u001b[0;34m,\u001b[0m \u001b[0mindices2len\u001b[0m\u001b[0;34m(\u001b[0m\u001b[0mc_start\u001b[0m\u001b[0;34m,\u001b[0m \u001b[0mc_stop\u001b[0m\u001b[0;34m,\u001b[0m \u001b[0mc_step\u001b[0m\u001b[0;34m)\u001b[0m\u001b[0;34m)\u001b[0m\u001b[0;34m\u001b[0m\u001b[0;34m\u001b[0m\u001b[0m\n\u001b[1;32m     11\u001b[0m         \u001b[0;32mreturn\u001b[0m \u001b[0marray_iterator\u001b[0m\u001b[0;34m(\u001b[0m\u001b[0marr\u001b[0m\u001b[0;34m,\u001b[0m \u001b[0mnew_shape\u001b[0m\u001b[0;34m,\u001b[0m \u001b[0mr_start\u001b[0m\u001b[0;34m,\u001b[0m \u001b[0mr_step\u001b[0m\u001b[0;34m,\u001b[0m \u001b[0mr_stop\u001b[0m\u001b[0;34m,\u001b[0m \u001b[0mc_step\u001b[0m\u001b[0;34m,\u001b[0m \u001b[0mc_stop\u001b[0m\u001b[0;34m,\u001b[0m \u001b[0mc_start\u001b[0m\u001b[0;34m)\u001b[0m\u001b[0;34m\u001b[0m\u001b[0;34m\u001b[0m\u001b[0m\n",
      "\u001b[0;31mIndexError\u001b[0m: tuple index out of range"
     ]
    }
   ],
   "source": [
    "b[1:] # If only one index is given, it means rows."
   ]
  },
  {
   "cell_type": "code",
   "execution_count": 172,
   "metadata": {
    "ExecuteTime": {
     "end_time": "2020-02-13T23:15:27.646583Z",
     "start_time": "2020-02-13T23:15:27.634545Z"
    }
   },
   "outputs": [
    {
     "ename": "AttributeError",
     "evalue": "'int' object has no attribute 'indices'",
     "output_type": "error",
     "traceback": [
      "\u001b[0;31m---------------------------------------------------------------------------\u001b[0m",
      "\u001b[0;31mAttributeError\u001b[0m                            Traceback (most recent call last)",
      "\u001b[0;32m<ipython-input-172-6a2ec83cd0dc>\u001b[0m in \u001b[0;36m<module>\u001b[0;34m\u001b[0m\n\u001b[0;32m----> 1\u001b[0;31m \u001b[0mb\u001b[0m\u001b[0;34m[\u001b[0m\u001b[0;36m1\u001b[0m\u001b[0;34m,\u001b[0m\u001b[0;36m2\u001b[0m\u001b[0;34m]\u001b[0m\u001b[0;34m\u001b[0m\u001b[0;34m\u001b[0m\u001b[0m\n\u001b[0m",
      "\u001b[0;32m<ipython-input-169-c7fb5d5dccdf>\u001b[0m in \u001b[0;36m<lambda>\u001b[0;34m(self, items)\u001b[0m\n\u001b[0;32m----> 1\u001b[0;31m \u001b[0mArr\u001b[0m\u001b[0;34m.\u001b[0m\u001b[0m__getitem__\u001b[0m \u001b[0;34m=\u001b[0m \u001b[0;32mlambda\u001b[0m \u001b[0mself\u001b[0m\u001b[0;34m,\u001b[0m \u001b[0mitems\u001b[0m\u001b[0;34m:\u001b[0m \u001b[0marr_getter\u001b[0m\u001b[0;34m(\u001b[0m\u001b[0mself\u001b[0m\u001b[0;34m,\u001b[0m \u001b[0mitems\u001b[0m\u001b[0;34m)\u001b[0m\u001b[0;34m\u001b[0m\u001b[0;34m\u001b[0m\u001b[0m\n\u001b[0m\u001b[1;32m      2\u001b[0m \u001b[0mb\u001b[0m \u001b[0;34m=\u001b[0m \u001b[0mArr\u001b[0m\u001b[0;34m(\u001b[0m\u001b[0mrange\u001b[0m\u001b[0;34m(\u001b[0m\u001b[0;36m16\u001b[0m\u001b[0;34m)\u001b[0m\u001b[0;34m)\u001b[0m\u001b[0;34m.\u001b[0m\u001b[0mreshape\u001b[0m\u001b[0;34m(\u001b[0m\u001b[0;36m4\u001b[0m\u001b[0;34m,\u001b[0m\u001b[0;36m4\u001b[0m\u001b[0;34m)\u001b[0m\u001b[0;34m\u001b[0m\u001b[0;34m\u001b[0m\u001b[0m\n\u001b[1;32m      3\u001b[0m \u001b[0mprint\u001b[0m\u001b[0;34m(\u001b[0m\u001b[0mb\u001b[0m\u001b[0;34m.\u001b[0m\u001b[0mndim\u001b[0m\u001b[0;34m)\u001b[0m\u001b[0;34m\u001b[0m\u001b[0;34m\u001b[0m\u001b[0m\n\u001b[1;32m      4\u001b[0m \u001b[0mb\u001b[0m\u001b[0;34m[\u001b[0m\u001b[0;36m1\u001b[0m\u001b[0;34m:\u001b[0m\u001b[0;34m,\u001b[0m\u001b[0;34m:\u001b[0m\u001b[0;34m:\u001b[0m\u001b[0;36m2\u001b[0m\u001b[0;34m]\u001b[0m\u001b[0;34m\u001b[0m\u001b[0;34m\u001b[0m\u001b[0m\n",
      "\u001b[0;32m<ipython-input-159-76cab6b97c03>\u001b[0m in \u001b[0;36marr_getter\u001b[0;34m(arr, items)\u001b[0m\n\u001b[1;32m      6\u001b[0m         \u001b[0;32mreturn\u001b[0m \u001b[0marr\u001b[0m\u001b[0;34m.\u001b[0m\u001b[0mdata\u001b[0m\u001b[0;34m[\u001b[0m\u001b[0mitems\u001b[0m\u001b[0;34m[\u001b[0m\u001b[0;36m0\u001b[0m\u001b[0;34m]\u001b[0m\u001b[0;34m]\u001b[0m\u001b[0;34m\u001b[0m\u001b[0;34m\u001b[0m\u001b[0m\n\u001b[1;32m      7\u001b[0m     \u001b[0;32mif\u001b[0m \u001b[0marr\u001b[0m\u001b[0;34m.\u001b[0m\u001b[0mndim\u001b[0m \u001b[0;34m==\u001b[0m \u001b[0;36m2\u001b[0m\u001b[0;34m:\u001b[0m\u001b[0;34m\u001b[0m\u001b[0;34m\u001b[0m\u001b[0m\n\u001b[0;32m----> 8\u001b[0;31m         \u001b[0mr_start\u001b[0m\u001b[0;34m,\u001b[0m \u001b[0mr_stop\u001b[0m\u001b[0;34m,\u001b[0m \u001b[0mr_step\u001b[0m \u001b[0;34m=\u001b[0m \u001b[0mitems\u001b[0m\u001b[0;34m[\u001b[0m\u001b[0;36m0\u001b[0m\u001b[0;34m]\u001b[0m\u001b[0;34m.\u001b[0m\u001b[0mindices\u001b[0m\u001b[0;34m(\u001b[0m\u001b[0marr\u001b[0m\u001b[0;34m.\u001b[0m\u001b[0mshape\u001b[0m\u001b[0;34m[\u001b[0m\u001b[0;36m0\u001b[0m\u001b[0;34m]\u001b[0m\u001b[0;34m)\u001b[0m\u001b[0;34m\u001b[0m\u001b[0;34m\u001b[0m\u001b[0m\n\u001b[0m\u001b[1;32m      9\u001b[0m         \u001b[0mc_start\u001b[0m\u001b[0;34m,\u001b[0m \u001b[0mc_stop\u001b[0m\u001b[0;34m,\u001b[0m \u001b[0mc_step\u001b[0m \u001b[0;34m=\u001b[0m \u001b[0mitems\u001b[0m\u001b[0;34m[\u001b[0m\u001b[0;36m1\u001b[0m\u001b[0;34m]\u001b[0m\u001b[0;34m.\u001b[0m\u001b[0mindices\u001b[0m\u001b[0;34m(\u001b[0m\u001b[0marr\u001b[0m\u001b[0;34m.\u001b[0m\u001b[0mshape\u001b[0m\u001b[0;34m[\u001b[0m\u001b[0;36m1\u001b[0m\u001b[0;34m]\u001b[0m\u001b[0;34m)\u001b[0m\u001b[0;34m\u001b[0m\u001b[0;34m\u001b[0m\u001b[0m\n\u001b[1;32m     10\u001b[0m         \u001b[0mnew_shape\u001b[0m \u001b[0;34m=\u001b[0m \u001b[0;34m(\u001b[0m\u001b[0mindices2len\u001b[0m\u001b[0;34m(\u001b[0m\u001b[0mr_start\u001b[0m\u001b[0;34m,\u001b[0m \u001b[0mr_stop\u001b[0m\u001b[0;34m,\u001b[0m \u001b[0mr_step\u001b[0m\u001b[0;34m)\u001b[0m\u001b[0;34m,\u001b[0m \u001b[0mindices2len\u001b[0m\u001b[0;34m(\u001b[0m\u001b[0mc_start\u001b[0m\u001b[0;34m,\u001b[0m \u001b[0mc_stop\u001b[0m\u001b[0;34m,\u001b[0m \u001b[0mc_step\u001b[0m\u001b[0;34m)\u001b[0m\u001b[0;34m)\u001b[0m\u001b[0;34m\u001b[0m\u001b[0;34m\u001b[0m\u001b[0m\n",
      "\u001b[0;31mAttributeError\u001b[0m: 'int' object has no attribute 'indices'"
     ]
    }
   ],
   "source": [
    "b[1,2] # Not familiar with ints"
   ]
  },
  {
   "cell_type": "code",
   "execution_count": 175,
   "metadata": {
    "ExecuteTime": {
     "end_time": "2020-02-13T23:45:26.057327Z",
     "start_time": "2020-02-13T23:45:26.052191Z"
    }
   },
   "outputs": [
    {
     "data": {
      "text/plain": [
       "(2, 3, 4, 5)"
      ]
     },
     "execution_count": 175,
     "metadata": {},
     "output_type": "execute_result"
    }
   ],
   "source": [
    "(2,3,4) + (5,)"
   ]
  },
  {
   "cell_type": "code",
   "execution_count": 180,
   "metadata": {
    "ExecuteTime": {
     "end_time": "2020-02-13T23:53:21.448281Z",
     "start_time": "2020-02-13T23:53:21.442059Z"
    }
   },
   "outputs": [],
   "source": [
    "# Ex\n",
    "def arr_getter(arr, items):\n",
    "    if not isinstance(items, tuple):  # got only one slicer\n",
    "        items = (items,)\n",
    "    assert arr.ndim >= len(items), f'More slicers ({len(items)}) than dimensions ({arr.ndim})'\n",
    "    if arr.ndim == 1:\n",
    "        return arr.data[items[0]]\n",
    "    if arr.ndim == 2:\n",
    "        # Less Then 2 Items\n",
    "        # BOE\n",
    "        if len(items) < 2:\n",
    "            ret = arr_getter(arr, items + (slice(None),))\n",
    "            return ret\n",
    "        # EOE\n",
    "        # Int location\n",
    "        # BOE\n",
    "        new_items = []\n",
    "        for item in items:\n",
    "            if isinstance(item, int):\n",
    "                new_items.append(slice(item, item+1))\n",
    "            else:\n",
    "                new_items.append(item)\n",
    "        items = tuple(new_items)\n",
    "        # EOE\n",
    "        r_start, r_stop, r_step = items[0].indices(arr.shape[0])\n",
    "        c_start, c_stop, c_step = items[1].indices(arr.shape[1])\n",
    "        new_shape = (indices2len(r_start, r_stop, r_step), indices2len(c_start, c_stop, c_step))\n",
    "        return array_iterator(arr, new_shape, r_start, r_step, r_stop, c_step, c_stop, c_start)"
   ]
  },
  {
   "cell_type": "code",
   "execution_count": 179,
   "metadata": {
    "ExecuteTime": {
     "end_time": "2020-02-13T23:47:35.460288Z",
     "start_time": "2020-02-13T23:47:35.455506Z"
    }
   },
   "outputs": [
    {
     "data": {
      "text/plain": [
       "Arr: \n",
       "  4     5     6     7   \n",
       "  8     9     10    11  "
      ]
     },
     "execution_count": 179,
     "metadata": {},
     "output_type": "execute_result"
    }
   ],
   "source": [
    "arr_getter(b,(slice(1,3)))"
   ]
  },
  {
   "cell_type": "code",
   "execution_count": 183,
   "metadata": {
    "ExecuteTime": {
     "end_time": "2020-02-13T23:53:45.943311Z",
     "start_time": "2020-02-13T23:53:45.939249Z"
    }
   },
   "outputs": [
    {
     "data": {
      "text/plain": [
       "Arr: \n",
       "  7   "
      ]
     },
     "execution_count": 183,
     "metadata": {},
     "output_type": "execute_result"
    }
   ],
   "source": [
    "arr_getter(b,(1,3))"
   ]
  },
  {
   "cell_type": "code",
   "execution_count": 195,
   "metadata": {
    "ExecuteTime": {
     "end_time": "2020-02-13T23:57:08.446171Z",
     "start_time": "2020-02-13T23:57:08.441483Z"
    }
   },
   "outputs": [
    {
     "name": "stdout",
     "output_type": "stream",
     "text": [
      "Arr: \n",
      "  4     6   \n",
      "  8     10  \n",
      "  12    14  \n",
      "\n",
      "Arr: \n",
      "  7   \n",
      "\n",
      "Arr: \n",
      "  1   \n",
      "  5   \n",
      "  9   \n",
      "  13  \n",
      "\n"
     ]
    }
   ],
   "source": [
    "Arr.__getitem__ = lambda self, items: arr_getter(self, items)\n",
    "b = Arr(range(16)).reshape(4,4)\n",
    "print (b[1:,::2])\n",
    "print (b[1,3])\n",
    "print (b[:,1])"
   ]
  }
 ],
 "metadata": {
  "kernelspec": {
   "display_name": "Python 3",
   "language": "python",
   "name": "python3"
  },
  "language_info": {
   "codemirror_mode": {
    "name": "ipython",
    "version": 3
   },
   "file_extension": ".py",
   "mimetype": "text/x-python",
   "name": "python",
   "nbconvert_exporter": "python",
   "pygments_lexer": "ipython3",
   "version": "3.8.1"
  },
  "toc": {
   "base_numbering": 1,
   "nav_menu": {},
   "number_sections": true,
   "sideBar": true,
   "skip_h1_title": false,
   "title_cell": "Table of Contents",
   "title_sidebar": "Contents",
   "toc_cell": false,
   "toc_position": {},
   "toc_section_display": true,
   "toc_window_display": true
  }
 },
 "nbformat": 4,
 "nbformat_minor": 4
}
