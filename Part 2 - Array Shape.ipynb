{
 "cells": [
  {
   "cell_type": "markdown",
   "metadata": {},
   "source": [
    "# Shapes"
   ]
  },
  {
   "cell_type": "markdown",
   "metadata": {
    "heading_collapsed": true
   },
   "source": [
    "## Basic Array"
   ]
  },
  {
   "cell_type": "code",
   "execution_count": 2,
   "metadata": {
    "ExecuteTime": {
     "end_time": "2020-02-13T14:58:31.140672Z",
     "start_time": "2020-02-13T14:58:31.131379Z"
    },
    "hidden": true
   },
   "outputs": [],
   "source": [
    "class Arr:\n",
    "    def __init__(self, data):\n",
    "        data = [item for item in data]\n",
    "        self.dtype = dtype(data)\n",
    "        self.data = [self.dtype(item) for item in data]\n",
    "\n",
    "    def __str__(self):\n",
    "        return (f\"Arr: {self.data}\")\n",
    "\n",
    "    __repr__ = __str__\n",
    "\n",
    "    def __len__(self):\n",
    "        return len(self.data)\n",
    "\n",
    "    def __iter__(self):\n",
    "        return iter(self.data)\n",
    "\n",
    "    ### Math\n",
    "\n",
    "    def __add__(self, other):\n",
    "        return zip_apply(self, other, self.dtype.__add__)\n",
    "\n",
    "    def __sub__(self, other):\n",
    "        return zip_apply(self, other, self.dtype.__sub__)\n",
    "\n",
    "    def __mul__(self, other):\n",
    "        return zip_apply(self, other, self.dtype.__mul__)\n",
    "\n",
    "    def __truediv__(self, other):\n",
    "        return zip_apply(self, other, self.dtype.__truediv__)\n",
    "\n",
    "    def __abs__(self):\n",
    "        return Arr(map(self.dtype.__abs__, self.data))\n",
    "\n",
    "\n",
    "def zip_apply(left, right, f):\n",
    "    # Length is the same\n",
    "    assert len(left) == len(right), f'arrays are not of same shape'\n",
    "    # Type is the same\n",
    "    assert dtype(left) == dtype(right), f'Arrays are not of same dtype'\n",
    "    # We can do the work\n",
    "    result = [f(l, r) for (l, r) in zip(left, right)]\n",
    "    return Arr(result)\n",
    "\n",
    "\n",
    "def dtype(obj):\n",
    "    \"\"\"Returns the dtype of the array\"\"\"\n",
    "    dtype = int\n",
    "    for item in obj:\n",
    "        itype = type(item)\n",
    "        if itype == str:  # str is the largest, so dtype is str\n",
    "            return str\n",
    "        if itype == float:  # We haven't seen str by now so type is either float or int\n",
    "            dtype = float\n",
    "    return dtype"
   ]
  },
  {
   "cell_type": "markdown",
   "metadata": {},
   "source": [
    "# Shape Method\n",
    "Behind the scenes, the array is not \"aware\" of it having a shape, or that it has dimensions. Shape and dimensions are metadata which we use when we do operations."
   ]
  },
  {
   "cell_type": "code",
   "execution_count": 4,
   "metadata": {
    "ExecuteTime": {
     "end_time": "2020-02-13T15:09:20.636659Z",
     "start_time": "2020-02-13T15:09:20.632371Z"
    }
   },
   "outputs": [],
   "source": [
    "class Arr(Arr):\n",
    "    def __init__(self, data):\n",
    "        data = [item for item in data]\n",
    "        self.dtype = dtype(data)\n",
    "        self.data = [self.dtype(item) for item in data]\n",
    "        ### New Code\n",
    "        self.size = len(self.data) # Because len will be something else\n",
    "        self.shape = (self.size,)\n",
    "        self.ndim = len(self.shape)"
   ]
  },
  {
   "cell_type": "code",
   "execution_count": 8,
   "metadata": {
    "ExecuteTime": {
     "end_time": "2020-02-13T15:10:57.547738Z",
     "start_time": "2020-02-13T15:10:57.543796Z"
    }
   },
   "outputs": [
    {
     "name": "stdout",
     "output_type": "stream",
     "text": [
      "(16,)\n",
      "1\n",
      "Arr: [0, 1, 2, 3, 4, 5, 6, 7, 8, 9, 10, 11, 12, 13, 14, 15]\n"
     ]
    }
   ],
   "source": [
    "arr = Arr(range(16))\n",
    "print(arr.shape)\n",
    "print(arr.ndim)\n",
    "print(arr)"
   ]
  },
  {
   "cell_type": "code",
   "execution_count": 9,
   "metadata": {
    "ExecuteTime": {
     "end_time": "2020-02-13T15:11:00.790828Z",
     "start_time": "2020-02-13T15:11:00.787279Z"
    }
   },
   "outputs": [
    {
     "name": "stdout",
     "output_type": "stream",
     "text": [
      "Arr: [0, 1, 2, 3, 4, 5, 6, 7, 8, 9, 10, 11, 12, 13, 14, 15]\n"
     ]
    }
   ],
   "source": [
    "arr.shape = (4,4)\n",
    "arr.ndim = 2\n",
    "print (arr)"
   ]
  },
  {
   "cell_type": "markdown",
   "metadata": {},
   "source": [
    "Not what we expected"
   ]
  },
  {
   "cell_type": "markdown",
   "metadata": {},
   "source": [
    "## Better print for arrays"
   ]
  },
  {
   "cell_type": "code",
   "execution_count": 16,
   "metadata": {
    "ExecuteTime": {
     "end_time": "2020-02-13T15:23:53.330756Z",
     "start_time": "2020-02-13T15:23:53.326997Z"
    }
   },
   "outputs": [],
   "source": [
    "def print_array(arr):\n",
    "    ret = \"Arr: \\n\" # We will add more strings to this \"main\" string\n",
    "    if arr.ndim < 2: \n",
    "        ret += str(arr.data)\n",
    "    else:\n",
    "        rows, cols = arr.shape\n",
    "        for i, val in enumerate(arr.data):\n",
    "            ret += str(val).center(6) # str.center - check it out.\n",
    "            if i % cols == cols -1: # in \"real\" math this means i mod cols = -1\n",
    "                ret += '\\n'\n",
    "    \n",
    "    return ret"
   ]
  },
  {
   "cell_type": "code",
   "execution_count": 21,
   "metadata": {
    "ExecuteTime": {
     "end_time": "2020-02-13T15:24:58.496002Z",
     "start_time": "2020-02-13T15:24:58.492290Z"
    }
   },
   "outputs": [
    {
     "name": "stdout",
     "output_type": "stream",
     "text": [
      "Arr: \n",
      "[0, 1, 2, 3, 4, 5, 6, 7, 8, 9, 10, 11, 12, 13, 14, 15]\n"
     ]
    }
   ],
   "source": [
    "arr = Arr(range(16))\n",
    "print(print_array(arr))"
   ]
  },
  {
   "cell_type": "code",
   "execution_count": 22,
   "metadata": {
    "ExecuteTime": {
     "end_time": "2020-02-13T15:24:58.718112Z",
     "start_time": "2020-02-13T15:24:58.714465Z"
    }
   },
   "outputs": [
    {
     "name": "stdout",
     "output_type": "stream",
     "text": [
      "Arr: \n",
      "  0     1     2     3   \n",
      "  4     5     6     7   \n",
      "  8     9     10    11  \n",
      "  12    13    14    15  \n",
      "\n"
     ]
    }
   ],
   "source": [
    "arr.shape = (4,4)\n",
    "arr.ndim = 2\n",
    "print(print_array(arr))"
   ]
  },
  {
   "cell_type": "markdown",
   "metadata": {},
   "source": [
    "**IT WORKS** Let's make this official."
   ]
  },
  {
   "cell_type": "code",
   "execution_count": 23,
   "metadata": {
    "ExecuteTime": {
     "end_time": "2020-02-13T15:30:31.251961Z",
     "start_time": "2020-02-13T15:30:31.249117Z"
    }
   },
   "outputs": [],
   "source": [
    "Arr.__str__ = print_array\n",
    "Arr.__repr__ = print_array"
   ]
  },
  {
   "cell_type": "code",
   "execution_count": 24,
   "metadata": {
    "ExecuteTime": {
     "end_time": "2020-02-13T15:30:32.696487Z",
     "start_time": "2020-02-13T15:30:32.692331Z"
    }
   },
   "outputs": [
    {
     "data": {
      "text/plain": [
       "Arr: \n",
       "  0     1     2     3   \n",
       "  4     5     6     7   \n",
       "  8     9     10    11  \n",
       "  12    13    14    15  "
      ]
     },
     "execution_count": 24,
     "metadata": {},
     "output_type": "execute_result"
    }
   ],
   "source": [
    "arr"
   ]
  },
  {
   "cell_type": "markdown",
   "metadata": {},
   "source": [
    "# Reshape\n",
    "Setting the `shape` is dangerous. It requires also changing the `ndim` and does check if the new shape makes sense"
   ]
  },
  {
   "cell_type": "markdown",
   "metadata": {},
   "source": [
    "## (Bad) Examples"
   ]
  },
  {
   "cell_type": "code",
   "execution_count": 26,
   "metadata": {
    "ExecuteTime": {
     "end_time": "2020-02-13T15:39:58.672593Z",
     "start_time": "2020-02-13T15:39:58.669147Z"
    }
   },
   "outputs": [
    {
     "data": {
      "text/plain": [
       "Arr: \n",
       "[0, 1, 2, 3, 4, 5, 6, 7, 8, 9, 10, 11, 12, 13, 14, 15]"
      ]
     },
     "execution_count": 26,
     "metadata": {},
     "output_type": "execute_result"
    }
   ],
   "source": [
    "arr = Arr(range(16))\n",
    "arr.shape = (4,4)\n",
    "arr"
   ]
  },
  {
   "cell_type": "code",
   "execution_count": 29,
   "metadata": {
    "ExecuteTime": {
     "end_time": "2020-02-13T15:40:50.229776Z",
     "start_time": "2020-02-13T15:40:50.225819Z"
    }
   },
   "outputs": [
    {
     "name": "stdout",
     "output_type": "stream",
     "text": [
      "not enough values to unpack (expected 2, got 1)\n"
     ]
    }
   ],
   "source": [
    "arr = Arr(range(16))\n",
    "arr.ndim = 2\n",
    "try:\n",
    "    print (arr)\n",
    "except Exception as e:\n",
    "    print(e)"
   ]
  },
  {
   "cell_type": "code",
   "execution_count": 33,
   "metadata": {
    "ExecuteTime": {
     "end_time": "2020-02-13T15:41:26.516443Z",
     "start_time": "2020-02-13T15:41:26.511456Z"
    }
   },
   "outputs": [
    {
     "data": {
      "text/plain": [
       "Arr: \n",
       "  0     1     2     3   \n",
       "  4     5     6     7   \n",
       "  8     9     10    11  \n",
       "  12    13    14    15  "
      ]
     },
     "execution_count": 33,
     "metadata": {},
     "output_type": "execute_result"
    }
   ],
   "source": [
    "arr = Arr(range(16))\n",
    "arr.ndim = 2\n",
    "arr.shape = (-3,4)\n",
    "arr"
   ]
  },
  {
   "cell_type": "markdown",
   "metadata": {},
   "source": [
    "## `Arr.reshape`\n",
    "Requirements:  \n",
    "* Change shape and ndim always together.\n",
    "* Make sure rows * cols = size\n",
    "* Have the option to change to either 1 dim or 2.\n",
    "    * example: `arr.reshape(4,4)` or `arr.reshape(16)` both acceptable\n",
    "* BONUS: have an option set one of the dimensions as -1 and have the array do the math."
   ]
  },
  {
   "cell_type": "code",
   "execution_count": 34,
   "metadata": {
    "ExecuteTime": {
     "end_time": "2020-02-13T15:49:16.856751Z",
     "start_time": "2020-02-13T15:49:16.850019Z"
    }
   },
   "outputs": [],
   "source": [
    "# Ex\n",
    "class Arr(Arr):\n",
    "    def reshape(self, rows, cols=None):\n",
    "        ret = Arr(self.data)\n",
    "        # BOE\n",
    "        if cols is None:\n",
    "            ret = ret.reshape(rows, 1)\n",
    "            ret.shape = (ret.shape[0],)\n",
    "            ret.ndim = len(ret.shape)\n",
    "            return ret\n",
    "        elif cols == -1:\n",
    "            assert self.size % rows == 0, f\"rows must be divide {self.size} without a remainder\"\n",
    "            cols = self.size // rows\n",
    "        elif rows == -1:\n",
    "            assert self.size % cols == 0, f\"cols must be divide {self.size} without a remainder\"\n",
    "            rows = self.size // cols\n",
    "        assert rows * cols == len(self.data), (f\"cannot reshape data with {self.size}\"\n",
    "                                               f\" values to shape ({rows},{cols})\")\n",
    "        ret.shape = (rows, cols)\n",
    "        ret.ndim = len(ret.shape)\n",
    "        # EOE\n",
    "        return ret\n",
    "        "
   ]
  },
  {
   "cell_type": "code",
   "execution_count": 47,
   "metadata": {
    "ExecuteTime": {
     "end_time": "2020-02-13T15:51:43.351698Z",
     "start_time": "2020-02-13T15:51:43.346884Z"
    }
   },
   "outputs": [
    {
     "data": {
      "text/plain": [
       "Arr: \n",
       "[0, 1, 2, 3, 4, 5, 6, 7, 8, 9, 10, 11, 12, 13, 14, 15]"
      ]
     },
     "execution_count": 47,
     "metadata": {},
     "output_type": "execute_result"
    }
   ],
   "source": [
    "arr = Arr(range(16))\n",
    "arr.reshape(-1)"
   ]
  },
  {
   "cell_type": "code",
   "execution_count": 43,
   "metadata": {
    "ExecuteTime": {
     "end_time": "2020-02-13T15:51:12.422780Z",
     "start_time": "2020-02-13T15:51:12.418537Z"
    }
   },
   "outputs": [
    {
     "data": {
      "text/plain": [
       "Arr: \n",
       "  0     1     2     3   \n",
       "  4     5     6     7   \n",
       "  8     9     10    11  \n",
       "  12    13    14    15  "
      ]
     },
     "execution_count": 43,
     "metadata": {},
     "output_type": "execute_result"
    }
   ],
   "source": [
    "arr.reshape(4,4)"
   ]
  },
  {
   "cell_type": "code",
   "execution_count": 45,
   "metadata": {
    "ExecuteTime": {
     "end_time": "2020-02-13T15:51:12.422780Z",
     "start_time": "2020-02-13T15:51:12.418537Z"
    }
   },
   "outputs": [
    {
     "data": {
      "text/plain": [
       "Arr: \n",
       "  0     1     2     3     4     5     6     7   \n",
       "  8     9     10    11    12    13    14    15  "
      ]
     },
     "execution_count": 45,
     "metadata": {},
     "output_type": "execute_result"
    }
   ],
   "source": [
    "arr.reshape(2,-1)"
   ]
  },
  {
   "cell_type": "code",
   "execution_count": 46,
   "metadata": {
    "ExecuteTime": {
     "end_time": "2020-02-13T15:51:12.422780Z",
     "start_time": "2020-02-13T15:51:12.418537Z"
    }
   },
   "outputs": [
    {
     "data": {
      "text/plain": [
       "Arr: \n",
       "  0     1   \n",
       "  2     3   \n",
       "  4     5   \n",
       "  6     7   \n",
       "  8     9   \n",
       "  10    11  \n",
       "  12    13  \n",
       "  14    15  "
      ]
     },
     "execution_count": 46,
     "metadata": {},
     "output_type": "execute_result"
    }
   ],
   "source": [
    "arr.reshape(-1,2)"
   ]
  },
  {
   "cell_type": "code",
   "execution_count": 48,
   "metadata": {
    "ExecuteTime": {
     "end_time": "2020-02-13T15:51:49.573900Z",
     "start_time": "2020-02-13T15:51:49.561970Z"
    }
   },
   "outputs": [
    {
     "ename": "AssertionError",
     "evalue": "cannot reshape data with 16 values to shape (5,3)",
     "output_type": "error",
     "traceback": [
      "\u001b[0;31m---------------------------------------------------------------------------\u001b[0m",
      "\u001b[0;31mAssertionError\u001b[0m                            Traceback (most recent call last)",
      "\u001b[0;32m<ipython-input-48-62f360b6088c>\u001b[0m in \u001b[0;36m<module>\u001b[0;34m\u001b[0m\n\u001b[0;32m----> 1\u001b[0;31m \u001b[0marr\u001b[0m\u001b[0;34m.\u001b[0m\u001b[0mreshape\u001b[0m\u001b[0;34m(\u001b[0m\u001b[0;36m5\u001b[0m\u001b[0;34m,\u001b[0m\u001b[0;36m3\u001b[0m\u001b[0;34m)\u001b[0m\u001b[0;34m\u001b[0m\u001b[0;34m\u001b[0m\u001b[0m\n\u001b[0m",
      "\u001b[0;32m<ipython-input-34-39e7fa405b1f>\u001b[0m in \u001b[0;36mreshape\u001b[0;34m(self, rows, cols)\u001b[0m\n\u001b[1;32m     15\u001b[0m             \u001b[0;32massert\u001b[0m \u001b[0mself\u001b[0m\u001b[0;34m.\u001b[0m\u001b[0msize\u001b[0m \u001b[0;34m%\u001b[0m \u001b[0mcols\u001b[0m \u001b[0;34m==\u001b[0m \u001b[0;36m0\u001b[0m\u001b[0;34m,\u001b[0m \u001b[0;34mf\"cols must be divide {self.size} without a remainder\"\u001b[0m\u001b[0;34m\u001b[0m\u001b[0;34m\u001b[0m\u001b[0m\n\u001b[1;32m     16\u001b[0m             \u001b[0mrows\u001b[0m \u001b[0;34m=\u001b[0m \u001b[0mself\u001b[0m\u001b[0;34m.\u001b[0m\u001b[0msize\u001b[0m \u001b[0;34m//\u001b[0m \u001b[0mcols\u001b[0m\u001b[0;34m\u001b[0m\u001b[0;34m\u001b[0m\u001b[0m\n\u001b[0;32m---> 17\u001b[0;31m         assert rows * cols == len(self.data), (f\"cannot reshape data with {self.size}\"\n\u001b[0m\u001b[1;32m     18\u001b[0m                                                f\" values to shape ({rows},{cols})\")\n\u001b[1;32m     19\u001b[0m         \u001b[0mret\u001b[0m\u001b[0;34m.\u001b[0m\u001b[0mshape\u001b[0m \u001b[0;34m=\u001b[0m \u001b[0;34m(\u001b[0m\u001b[0mrows\u001b[0m\u001b[0;34m,\u001b[0m \u001b[0mcols\u001b[0m\u001b[0;34m)\u001b[0m\u001b[0;34m\u001b[0m\u001b[0;34m\u001b[0m\u001b[0m\n",
      "\u001b[0;31mAssertionError\u001b[0m: cannot reshape data with 16 values to shape (5,3)"
     ]
    }
   ],
   "source": [
    "arr.reshape(5,3)"
   ]
  },
  {
   "cell_type": "code",
   "execution_count": 49,
   "metadata": {
    "ExecuteTime": {
     "end_time": "2020-02-13T15:52:04.942262Z",
     "start_time": "2020-02-13T15:52:04.932392Z"
    }
   },
   "outputs": [
    {
     "ename": "AssertionError",
     "evalue": "cols must be divide 16 without a remainder",
     "output_type": "error",
     "traceback": [
      "\u001b[0;31m---------------------------------------------------------------------------\u001b[0m",
      "\u001b[0;31mAssertionError\u001b[0m                            Traceback (most recent call last)",
      "\u001b[0;32m<ipython-input-49-828f91ad135a>\u001b[0m in \u001b[0;36m<module>\u001b[0;34m\u001b[0m\n\u001b[0;32m----> 1\u001b[0;31m \u001b[0marr\u001b[0m\u001b[0;34m.\u001b[0m\u001b[0mreshape\u001b[0m\u001b[0;34m(\u001b[0m\u001b[0;34m-\u001b[0m\u001b[0;36m1\u001b[0m\u001b[0;34m,\u001b[0m\u001b[0;36m7\u001b[0m\u001b[0;34m)\u001b[0m\u001b[0;34m\u001b[0m\u001b[0;34m\u001b[0m\u001b[0m\n\u001b[0m",
      "\u001b[0;32m<ipython-input-34-39e7fa405b1f>\u001b[0m in \u001b[0;36mreshape\u001b[0;34m(self, rows, cols)\u001b[0m\n\u001b[1;32m     13\u001b[0m             \u001b[0mcols\u001b[0m \u001b[0;34m=\u001b[0m \u001b[0mself\u001b[0m\u001b[0;34m.\u001b[0m\u001b[0msize\u001b[0m \u001b[0;34m//\u001b[0m \u001b[0mrows\u001b[0m\u001b[0;34m\u001b[0m\u001b[0;34m\u001b[0m\u001b[0m\n\u001b[1;32m     14\u001b[0m         \u001b[0;32melif\u001b[0m \u001b[0mrows\u001b[0m \u001b[0;34m==\u001b[0m \u001b[0;34m-\u001b[0m\u001b[0;36m1\u001b[0m\u001b[0;34m:\u001b[0m\u001b[0;34m\u001b[0m\u001b[0;34m\u001b[0m\u001b[0m\n\u001b[0;32m---> 15\u001b[0;31m             \u001b[0;32massert\u001b[0m \u001b[0mself\u001b[0m\u001b[0;34m.\u001b[0m\u001b[0msize\u001b[0m \u001b[0;34m%\u001b[0m \u001b[0mcols\u001b[0m \u001b[0;34m==\u001b[0m \u001b[0;36m0\u001b[0m\u001b[0;34m,\u001b[0m \u001b[0;34mf\"cols must be divide {self.size} without a remainder\"\u001b[0m\u001b[0;34m\u001b[0m\u001b[0;34m\u001b[0m\u001b[0m\n\u001b[0m\u001b[1;32m     16\u001b[0m             \u001b[0mrows\u001b[0m \u001b[0;34m=\u001b[0m \u001b[0mself\u001b[0m\u001b[0;34m.\u001b[0m\u001b[0msize\u001b[0m \u001b[0;34m//\u001b[0m \u001b[0mcols\u001b[0m\u001b[0;34m\u001b[0m\u001b[0;34m\u001b[0m\u001b[0m\n\u001b[1;32m     17\u001b[0m         assert rows * cols == len(self.data), (f\"cannot reshape data with {self.size}\"\n",
      "\u001b[0;31mAssertionError\u001b[0m: cols must be divide 16 without a remainder"
     ]
    }
   ],
   "source": [
    "arr.reshape(-1,7)"
   ]
  },
  {
   "cell_type": "markdown",
   "metadata": {},
   "source": [
    "## Protecting the shape with `__setitem__`\n",
    "`__setitem__` runs before s propery is set to the instance"
   ]
  },
  {
   "cell_type": "code",
   "execution_count": null,
   "metadata": {},
   "outputs": [],
   "source": [
    "# protected = ['shape', 'ndim']\n",
    "# class Arr(Arr):\n",
    "#     def __setitem__(self, item):\n",
    "#         if item == 'shape'"
   ]
  }
 ],
 "metadata": {
  "kernelspec": {
   "display_name": "Python 3",
   "language": "python",
   "name": "python3"
  },
  "language_info": {
   "codemirror_mode": {
    "name": "ipython",
    "version": 3
   },
   "file_extension": ".py",
   "mimetype": "text/x-python",
   "name": "python",
   "nbconvert_exporter": "python",
   "pygments_lexer": "ipython3",
   "version": "3.8.1"
  },
  "toc": {
   "base_numbering": 1,
   "nav_menu": {},
   "number_sections": true,
   "sideBar": true,
   "skip_h1_title": false,
   "title_cell": "Table of Contents",
   "title_sidebar": "Contents",
   "toc_cell": false,
   "toc_position": {},
   "toc_section_display": true,
   "toc_window_display": true
  }
 },
 "nbformat": 4,
 "nbformat_minor": 4
}
