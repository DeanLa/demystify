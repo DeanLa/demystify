{
 "cells": [
  {
   "cell_type": "code",
   "execution_count": 2,
   "metadata": {
    "ExecuteTime": {
     "end_time": "2020-02-16T19:16:34.378776Z",
     "start_time": "2020-02-16T19:16:34.265516Z"
    }
   },
   "outputs": [],
   "source": [
    "%run \"./obj/Array.ipynb\""
   ]
  },
  {
   "cell_type": "markdown",
   "metadata": {},
   "source": [
    "# Index\n",
    "An index is an object that indexes a Series. it has:\n",
    "1. Values that represent the indices names.\n",
    "2. A mapping between indices to numerical locations."
   ]
  },
  {
   "cell_type": "code",
   "execution_count": 3,
   "metadata": {
    "ExecuteTime": {
     "end_time": "2020-02-16T19:17:38.816352Z",
     "start_time": "2020-02-16T19:17:38.811136Z"
    }
   },
   "outputs": [],
   "source": [
    "from collections import defaultdict\n",
    "class Idx:\n",
    "    def __init__(self, data):\n",
    "        self.values = Arr(data)\n",
    "        self.mapping = defaultdict(list)\n",
    "        for i, key in enumerate(data):\n",
    "            self.mapping[key].append(i)\n",
    "\n",
    "    def __len__(self):\n",
    "        return len(self.values)\n",
    "    \n",
    "    def unique(self):\n",
    "        return Arr(self.mapping.keys())\n",
    "\n",
    "    def __getitem__(self, item):\n",
    "        return self.values.__getitem__(item)    \n",
    "    \n",
    "    def __str__(self):\n",
    "        return f\"Index with values: {self.unique()}\""
   ]
  },
  {
   "cell_type": "code",
   "execution_count": 4,
   "metadata": {
    "ExecuteTime": {
     "end_time": "2020-02-16T19:17:39.666600Z",
     "start_time": "2020-02-16T19:17:39.657017Z"
    }
   },
   "outputs": [
    {
     "data": {
      "text/plain": [
       "defaultdict(list, {'a': [0, 3, 5, 6], 'b': [1, 2, 4], 'c': [7], 'd': [8]})"
      ]
     },
     "execution_count": 4,
     "metadata": {},
     "output_type": "execute_result"
    }
   ],
   "source": [
    "idx = Idx(list('abbabaacd'))\n",
    "idx.mapping"
   ]
  },
  {
   "cell_type": "code",
   "execution_count": 5,
   "metadata": {
    "ExecuteTime": {
     "end_time": "2020-02-16T19:17:45.791452Z",
     "start_time": "2020-02-16T19:17:45.786700Z"
    }
   },
   "outputs": [
    {
     "data": {
      "text/plain": [
       "__main__.Arr"
      ]
     },
     "execution_count": 5,
     "metadata": {},
     "output_type": "execute_result"
    }
   ],
   "source": [
    "Arr"
   ]
  },
  {
   "cell_type": "code",
   "execution_count": 6,
   "metadata": {
    "ExecuteTime": {
     "end_time": "2020-02-16T19:17:53.580644Z",
     "start_time": "2020-02-16T19:17:53.577169Z"
    }
   },
   "outputs": [
    {
     "name": "stdout",
     "output_type": "stream",
     "text": [
      "Index with values: Arr: \n",
      "['a', 'b', 'c', 'd']\n"
     ]
    }
   ],
   "source": [
    "print (idx)"
   ]
  },
  {
   "cell_type": "markdown",
   "metadata": {},
   "source": [
    "# Series\n",
    "A series is an object that has 3 things:\n",
    "1. Array `Arr` of values\n",
    "2. Index\n",
    "3. Name"
   ]
  },
  {
   "cell_type": "code",
   "execution_count": 7,
   "metadata": {
    "ExecuteTime": {
     "end_time": "2020-02-16T19:18:00.275080Z",
     "start_time": "2020-02-16T19:18:00.271862Z"
    }
   },
   "outputs": [],
   "source": [
    "class Srs:\n",
    "    def __init__(self, data, name=None, index=None):\n",
    "        self.values = Arr(data)\n",
    "        self.index = index or Idx(range(len(self.values)))\n",
    "        assert len(self.values) == len(self.index)\n",
    "        self.name = name or \"new_series\"\n",
    "\n",
    "    def __len__(self):\n",
    "        return len(self.values)"
   ]
  },
  {
   "cell_type": "markdown",
   "metadata": {},
   "source": [
    "## Iterate Over a Series\n",
    "When iterating over a series we want to iterate along with the index. We will `zip` them together."
   ]
  },
  {
   "cell_type": "code",
   "execution_count": 8,
   "metadata": {
    "ExecuteTime": {
     "end_time": "2020-02-16T19:18:35.765483Z",
     "start_time": "2020-02-16T19:18:35.760992Z"
    }
   },
   "outputs": [],
   "source": [
    "class Srs(Srs):  \n",
    "    def __iter__(self):\n",
    "        return zip(self.index.values, self.values)\n",
    "    \n",
    "    def __str__(self):\n",
    "        ret = f\"{self.name}: \\n\"\n",
    "        for idx, val in self: # This is now possible thanks to __iter__\n",
    "            ret += str(idx).center(6)\n",
    "            ret += str(val).center(6)\n",
    "            ret += '\\n'\n",
    "\n",
    "        return ret\n",
    "\n",
    "    __repr__ = __str__"
   ]
  },
  {
   "cell_type": "code",
   "execution_count": 9,
   "metadata": {
    "ExecuteTime": {
     "end_time": "2020-02-16T19:18:43.501310Z",
     "start_time": "2020-02-16T19:18:43.496207Z"
    }
   },
   "outputs": [
    {
     "data": {
      "text/plain": [
       "foo: \n",
       "  a     0   \n",
       "  b     1   \n",
       "  c     2   \n",
       "  d     3   \n",
       "  e     4   "
      ]
     },
     "execution_count": 9,
     "metadata": {},
     "output_type": "execute_result"
    }
   ],
   "source": [
    "idx = Idx(list('abcde'))\n",
    "srs = Srs(range(5), 'foo', idx)\n",
    "srs"
   ]
  },
  {
   "cell_type": "markdown",
   "metadata": {},
   "source": [
    "# Copying array behaviour with `__getattr__`\n",
    "`__getattr__` is called if the attribute does not exist. [Example](Part%209%20-%20Minimals.ipynb#Get-Attr).  \n",
    "if the method does not exist, we want to copy the behviour of the underlying series. The way to know if the underlying series has the method, is by calling `hasattr`.  \n",
    "Both `getattr` and `setattr` are ways to call methods using strings."
   ]
  },
  {
   "cell_type": "code",
   "execution_count": 10,
   "metadata": {
    "ExecuteTime": {
     "end_time": "2020-02-16T19:20:36.972063Z",
     "start_time": "2020-02-16T19:20:36.968329Z"
    }
   },
   "outputs": [],
   "source": [
    "class Srs(Srs):\n",
    "    def __getattr__(self, item):\n",
    "        if hasattr(self.values, item):\n",
    "            return getattr(self.values, item)\n",
    "        raise AttributeError"
   ]
  },
  {
   "cell_type": "code",
   "execution_count": 11,
   "metadata": {
    "ExecuteTime": {
     "end_time": "2020-02-16T19:20:37.369784Z",
     "start_time": "2020-02-16T19:20:37.367006Z"
    }
   },
   "outputs": [],
   "source": [
    "arr = Arr([10,5,2])\n",
    "srs = Srs([10,5,2], 'foo')"
   ]
  },
  {
   "cell_type": "code",
   "execution_count": 12,
   "metadata": {
    "ExecuteTime": {
     "end_time": "2020-02-16T19:20:37.707189Z",
     "start_time": "2020-02-16T19:20:37.701870Z"
    }
   },
   "outputs": [
    {
     "data": {
      "text/plain": [
       "17"
      ]
     },
     "execution_count": 12,
     "metadata": {},
     "output_type": "execute_result"
    }
   ],
   "source": [
    "arr.sum()"
   ]
  },
  {
   "cell_type": "code",
   "execution_count": 13,
   "metadata": {
    "ExecuteTime": {
     "end_time": "2020-02-16T19:20:42.594193Z",
     "start_time": "2020-02-16T19:20:42.590352Z"
    }
   },
   "outputs": [
    {
     "data": {
      "text/plain": [
       "17"
      ]
     },
     "execution_count": 13,
     "metadata": {},
     "output_type": "execute_result"
    }
   ],
   "source": [
    "srs.sum()"
   ]
  },
  {
   "cell_type": "code",
   "execution_count": 14,
   "metadata": {
    "ExecuteTime": {
     "end_time": "2020-02-16T19:20:44.460486Z",
     "start_time": "2020-02-16T19:20:44.445660Z"
    }
   },
   "outputs": [
    {
     "ename": "TypeError",
     "evalue": "unsupported operand type(s) for +: 'Srs' and 'Srs'",
     "output_type": "error",
     "traceback": [
      "\u001b[0;31m---------------------------------------------------------------------------\u001b[0m",
      "\u001b[0;31mTypeError\u001b[0m                                 Traceback (most recent call last)",
      "\u001b[0;32m<ipython-input-14-a7651bf69768>\u001b[0m in \u001b[0;36m<module>\u001b[0;34m\u001b[0m\n\u001b[1;32m      1\u001b[0m \u001b[0;31m# This will sadly not work\u001b[0m\u001b[0;34m\u001b[0m\u001b[0;34m\u001b[0m\u001b[0;34m\u001b[0m\u001b[0m\n\u001b[0;32m----> 2\u001b[0;31m \u001b[0msrs\u001b[0m \u001b[0;34m+\u001b[0m \u001b[0msrs\u001b[0m\u001b[0;34m\u001b[0m\u001b[0;34m\u001b[0m\u001b[0m\n\u001b[0m",
      "\u001b[0;31mTypeError\u001b[0m: unsupported operand type(s) for +: 'Srs' and 'Srs'"
     ]
    }
   ],
   "source": [
    "# This will sadly not work\n",
    "srs + srs"
   ]
  },
  {
   "cell_type": "markdown",
   "metadata": {},
   "source": [
    "# Arithmetic"
   ]
  },
  {
   "cell_type": "code",
   "execution_count": 15,
   "metadata": {
    "ExecuteTime": {
     "end_time": "2020-02-16T19:23:57.875517Z",
     "start_time": "2020-02-16T19:23:57.869952Z"
    }
   },
   "outputs": [],
   "source": [
    "def series_apply(left, right, f_name):\n",
    "    # Same index. We will not deal with not aligned concats\n",
    "    f = getattr(left.values, f_name) # We now now gett so let's make it nicer\n",
    "    res = f(right.values)\n",
    "    return Srs(res, index=left.index)\n",
    "\n",
    "class Srs(Srs):\n",
    "    def __add__(self, other):\n",
    "        return series_apply(self, other, '__add__')\n",
    "    def __sub__(self, other):\n",
    "        return series_apply(self, other, '__sub__')\n",
    "    def __mul__(self, other):\n",
    "        return series_apply(self, other, '__mul__')\n",
    "    def __truediv__(self, other):\n",
    "        return series_apply(self, other, '__truediv__')"
   ]
  },
  {
   "cell_type": "code",
   "execution_count": 16,
   "metadata": {
    "ExecuteTime": {
     "end_time": "2020-02-16T19:23:59.402774Z",
     "start_time": "2020-02-16T19:23:59.400075Z"
    }
   },
   "outputs": [],
   "source": [
    "s1 = Srs([1,2,3])\n",
    "s2 = Srs([30,20,10])"
   ]
  },
  {
   "cell_type": "code",
   "execution_count": 18,
   "metadata": {
    "ExecuteTime": {
     "end_time": "2020-02-16T19:24:12.281494Z",
     "start_time": "2020-02-16T19:24:12.277303Z"
    }
   },
   "outputs": [
    {
     "name": "stdout",
     "output_type": "stream",
     "text": [
      "new_series: \n",
      "  0     31  \n",
      "  1     22  \n",
      "  2     13  \n",
      "\n",
      "new_series: \n",
      "  0     30  \n",
      "  1     40  \n",
      "  2     30  \n",
      "\n",
      "-18.0\n",
      "0.43333333333333335\n"
     ]
    }
   ],
   "source": [
    "print (s1+s2)\n",
    "print (s1*s2)\n",
    "print ((s1-s2).mean())\n",
    "print ((s1/s2).sum())\n"
   ]
  },
  {
   "cell_type": "markdown",
   "metadata": {
    "ExecuteTime": {
     "end_time": "2020-02-14T00:30:42.820832Z",
     "start_time": "2020-02-14T00:30:42.816328Z"
    }
   },
   "source": [
    "# `getitem` by index location\n"
   ]
  },
  {
   "cell_type": "code",
   "execution_count": 19,
   "metadata": {
    "ExecuteTime": {
     "end_time": "2020-02-16T19:24:15.193298Z",
     "start_time": "2020-02-16T19:24:15.189787Z"
    }
   },
   "outputs": [],
   "source": [
    "def listify(val):\n",
    "    if isinstance(val, list):\n",
    "        return val\n",
    "    else:\n",
    "        return [val]"
   ]
  },
  {
   "cell_type": "code",
   "execution_count": 21,
   "metadata": {
    "ExecuteTime": {
     "end_time": "2020-02-16T19:30:25.045697Z",
     "start_time": "2020-02-16T19:30:25.041386Z"
    }
   },
   "outputs": [],
   "source": [
    "class Srs(Srs):\n",
    "    def __getitem__(self, items):\n",
    "        if items == slice(None):\n",
    "            # To solve things like srs[:]\n",
    "            return self\n",
    "        items = listify(items)\n",
    "        idx = []\n",
    "        for item in items:\n",
    "            assert item in self.index.mapping.keys(), f'{items} is not in the series index'\n",
    "            idx.extend(self.index.mapping.get(item))\n",
    "\n",
    "        idx = sorted(idx)\n",
    "        vals = [self.values[i] for i in idx]\n",
    "        new_index = [self.index[i] for i in idx] # This is a bit overhead, but will suffice for now\n",
    "        return Srs(vals, name=self.name, index=Idx(new_index))"
   ]
  },
  {
   "cell_type": "code",
   "execution_count": 24,
   "metadata": {
    "ExecuteTime": {
     "end_time": "2020-02-16T19:30:52.038497Z",
     "start_time": "2020-02-16T19:30:52.032990Z"
    }
   },
   "outputs": [
    {
     "name": "stdout",
     "output_type": "stream",
     "text": [
      "bar: \n",
      "  e     2   \n",
      "  e     4   \n",
      "\n",
      "bar: \n",
      "  a     0   \n",
      "  e     2   \n",
      "  e     4   \n",
      "\n"
     ]
    }
   ],
   "source": [
    "idx = Idx(list('abede'))\n",
    "srs = Srs(range(5), 'bar', idx)\n",
    "print(srs['e']) # Thanks to listify\n",
    "print(srs[['e', 'a']])"
   ]
  },
  {
   "cell_type": "markdown",
   "metadata": {},
   "source": [
    "# Exercise: Implement `Srs.value_counts()`\n",
    "[`pd.value_count()`](https://pandas.pydata.org/pandas-docs/stable/reference/api/pandas.Series.value_counts.html)"
   ]
  },
  {
   "cell_type": "code",
   "execution_count": 34,
   "metadata": {
    "ExecuteTime": {
     "end_time": "2020-02-16T19:32:35.304584Z",
     "start_time": "2020-02-16T19:32:35.297667Z"
    }
   },
   "outputs": [],
   "source": [
    "# Ex\n",
    "class Srs(Srs):\n",
    "    def as_index(self):\n",
    "        # Hint\n",
    "        return Idx(self.values)\n",
    "\n",
    "    def value_counts(self):\n",
    "        # BOE\n",
    "        idx = self.as_index()\n",
    "        mapping = idx.mapping\n",
    "        keys = []\n",
    "        counts = []\n",
    "        for key, indices in mapping.items():\n",
    "            keys.append(key)\n",
    "            counts.append(len(indices))\n",
    "        ret = Srs(counts, name=f'{self.name} value counts', index=Idx(keys))\n",
    "        return ret\n",
    "        # EOE"
   ]
  },
  {
   "cell_type": "code",
   "execution_count": 35,
   "metadata": {
    "ExecuteTime": {
     "end_time": "2020-02-16T19:32:35.721395Z",
     "start_time": "2020-02-16T19:32:35.718483Z"
    }
   },
   "outputs": [],
   "source": [
    "vc = Srs('abbbbabdbedb', name='letters')"
   ]
  },
  {
   "cell_type": "code",
   "execution_count": 37,
   "metadata": {
    "ExecuteTime": {
     "end_time": "2020-02-16T19:39:13.853898Z",
     "start_time": "2020-02-16T19:39:13.849929Z"
    }
   },
   "outputs": [
    {
     "name": "stdout",
     "output_type": "stream",
     "text": [
      "letters value counts: \n",
      "  a     2   \n",
      "  b     7   \n",
      "  d     2   \n",
      "  e     1   \n",
      "\n"
     ]
    }
   ],
   "source": [
    "print(vc.value_counts())"
   ]
  }
 ],
 "metadata": {
  "kernelspec": {
   "display_name": "Python 3",
   "language": "python",
   "name": "python3"
  },
  "language_info": {
   "codemirror_mode": {
    "name": "ipython",
    "version": 3
   },
   "file_extension": ".py",
   "mimetype": "text/x-python",
   "name": "python",
   "nbconvert_exporter": "python",
   "pygments_lexer": "ipython3",
   "version": "3.8.1"
  },
  "toc": {
   "base_numbering": 1,
   "nav_menu": {},
   "number_sections": true,
   "sideBar": true,
   "skip_h1_title": false,
   "title_cell": "Table of Contents",
   "title_sidebar": "Contents",
   "toc_cell": false,
   "toc_position": {
    "height": "calc(100% - 180px)",
    "left": "10px",
    "top": "150px",
    "width": "200.8px"
   },
   "toc_section_display": true,
   "toc_window_display": true
  }
 },
 "nbformat": 4,
 "nbformat_minor": 4
}
