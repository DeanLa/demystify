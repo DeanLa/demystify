{
 "cells": [
  {
   "cell_type": "code",
   "execution_count": null,
   "metadata": {},
   "outputs": [],
   "source": [
    "from collections import defaultdict\n",
    "class Idx:\n",
    "    def __init__(self, data):\n",
    "        self.values = Arr(data)\n",
    "        self.mapping = defaultdict(list)\n",
    "        for i, key in enumerate(data):\n",
    "            self.mapping[key].append(i)\n",
    "\n",
    "    def __len__(self):\n",
    "        return len(self.values)\n",
    "    \n",
    "    def unique(self):\n",
    "        return Arr(self.mapping.keys())\n",
    "\n",
    "    def __getitem__(self, item):\n",
    "        return self.values.__getitem__(item)    \n",
    "    \n",
    "    def __str__(self):\n",
    "        return f\"Index with values: {self.unique()}\""
   ]
  }
 ],
 "metadata": {
  "kernelspec": {
   "display_name": "Python 3",
   "language": "python",
   "name": "python3"
  },
  "language_info": {
   "codemirror_mode": {
    "name": "ipython",
    "version": 3
   },
   "file_extension": ".py",
   "mimetype": "text/x-python",
   "name": "python",
   "nbconvert_exporter": "python",
   "pygments_lexer": "ipython3",
   "version": "3.8.1"
  },
  "toc": {
   "base_numbering": 1,
   "nav_menu": {},
   "number_sections": true,
   "sideBar": true,
   "skip_h1_title": false,
   "title_cell": "Table of Contents",
   "title_sidebar": "Contents",
   "toc_cell": false,
   "toc_position": {},
   "toc_section_display": true,
   "toc_window_display": false
  }
 },
 "nbformat": 4,
 "nbformat_minor": 4
}
