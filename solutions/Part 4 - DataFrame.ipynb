{
 "cells": [
  {
   "cell_type": "code",
   "execution_count": 4,
   "metadata": {
    "ExecuteTime": {
     "end_time": "2020-02-14T23:50:36.794794Z",
     "start_time": "2020-02-14T23:50:36.689175Z"
    }
   },
   "outputs": [],
   "source": [
    "%run \"./obj/Array.ipynb\"\n",
    "%run \"./obj/Index.ipynb\"\n",
    "%run \"./obj/Series.ipynb\""
   ]
  },
  {
   "cell_type": "markdown",
   "metadata": {},
   "source": [
    "# DataFrame Basics\n",
    "DataFrame is a collection of an index (one for this class) and one or more series.  \n",
    "The series has order, which makes them the `columns` of the dataframe.  "
   ]
  },
  {
   "cell_type": "code",
   "execution_count": 5,
   "metadata": {
    "ExecuteTime": {
     "end_time": "2020-02-14T23:50:37.388715Z",
     "start_time": "2020-02-14T23:50:37.381429Z"
    }
   },
   "outputs": [],
   "source": [
    "class DF():\n",
    "    def __init__(self, data, index=None):\n",
    "        self.data = data\n",
    "        self.index = index\n",
    "        self._validate()\n",
    "        self.columns = [] # This is like data.keys() we can set the order\n",
    "        self.data = {}\n",
    "        for name, vals in data.items():\n",
    "            self.columns.append((name))\n",
    "            if isinstance(vals, Srs):\n",
    "                vals = vals.values\n",
    "            self.data[name] = Srs(vals, name=name, index=self.index)\n",
    "\n",
    "    def _validate(self):\n",
    "        first = list(self.data.values())[0]\n",
    "        self.shape = (len(first), len(self.data.keys()))\n",
    "        for col in self.data.values():\n",
    "            assert len(col) == len(self), f\"Not all columns are of same length {self.shape}, {len(col)}\"\n",
    "        self.index = self.index or Idx(range(len(self))) # In real code, this will not be in validate.\n",
    "        assert len(self.index)\n",
    "        \n",
    "    def __len__(self):\n",
    "        return self.shape[0]"
   ]
  },
  {
   "cell_type": "code",
   "execution_count": 6,
   "metadata": {
    "ExecuteTime": {
     "end_time": "2020-02-14T23:50:37.762103Z",
     "start_time": "2020-02-14T23:50:37.758626Z"
    }
   },
   "outputs": [],
   "source": [
    "data = {'flights':[10,12,50,40],\n",
    "         'visited':[6,1,2,0],\n",
    "         'country': ['Israel','Georgia','US','US']}\n",
    "index = Idx(['tlv','tbs','jfk','ewr'])"
   ]
  },
  {
   "cell_type": "code",
   "execution_count": 7,
   "metadata": {
    "ExecuteTime": {
     "end_time": "2020-02-14T23:50:38.546599Z",
     "start_time": "2020-02-14T23:50:38.543938Z"
    }
   },
   "outputs": [],
   "source": [
    "df = DF(data, index)"
   ]
  },
  {
   "cell_type": "code",
   "execution_count": 8,
   "metadata": {
    "ExecuteTime": {
     "end_time": "2020-02-14T23:50:39.237274Z",
     "start_time": "2020-02-14T23:50:39.227424Z"
    }
   },
   "outputs": [
    {
     "name": "stdout",
     "output_type": "stream",
     "text": [
      "<__main__.DF object at 0x10d1172b0>\n"
     ]
    },
    {
     "data": {
      "text/plain": [
       "flights: \n",
       " tlv    10  \n",
       " tbs    12  \n",
       " jfk    50  \n",
       " ewr    40  "
      ]
     },
     "execution_count": 8,
     "metadata": {},
     "output_type": "execute_result"
    }
   ],
   "source": [
    "print(df)\n",
    "df.data['flights']"
   ]
  },
  {
   "cell_type": "markdown",
   "metadata": {},
   "source": [
    "# See the Data"
   ]
  },
  {
   "cell_type": "code",
   "execution_count": 9,
   "metadata": {
    "ExecuteTime": {
     "end_time": "2020-02-14T23:50:41.538194Z",
     "start_time": "2020-02-14T23:50:41.531628Z"
    }
   },
   "outputs": [],
   "source": [
    "def print_df(df):\n",
    "    maxlen = max([len(col_name) for col_name in df.columns]) + 2 # Will make for nice spaces\n",
    "    maxlen = max(maxlen, 8)\n",
    "    ret = ''.center(maxlen) # Top-Left Corner\n",
    "    for col_name in df.columns: # prints top row\n",
    "        ret += col_name.center(maxlen)\n",
    "    ret += '\\n'\n",
    "    collection = [df.index.values.data] + [df.data[col].values for col in df.columns]\n",
    "    for row in zip(*collection):\n",
    "        for cell in row:\n",
    "            ret += str(cell).center(maxlen)\n",
    "        ret += '\\n'\n",
    "    return ret"
   ]
  },
  {
   "cell_type": "code",
   "execution_count": 10,
   "metadata": {
    "ExecuteTime": {
     "end_time": "2020-02-14T23:50:42.381969Z",
     "start_time": "2020-02-14T23:50:42.377981Z"
    }
   },
   "outputs": [
    {
     "name": "stdout",
     "output_type": "stream",
     "text": [
      "          flights  visited  country \n",
      "   tlv       10       6      Israel \n",
      "   tbs       12       1     Georgia \n",
      "   jfk       50       2        US   \n",
      "   ewr       40       0        US   \n",
      "\n"
     ]
    }
   ],
   "source": [
    "print (print_df(df))"
   ]
  },
  {
   "cell_type": "markdown",
   "metadata": {},
   "source": [
    "## Put in class"
   ]
  },
  {
   "cell_type": "code",
   "execution_count": 11,
   "metadata": {
    "ExecuteTime": {
     "end_time": "2020-02-14T23:50:44.081462Z",
     "start_time": "2020-02-14T23:50:44.077349Z"
    }
   },
   "outputs": [],
   "source": [
    "def spaced_row(row, maxlen):\n",
    "    ret = ''\n",
    "    for cell in row:\n",
    "        ret += str(cell).center(maxlen)\n",
    "    ret += '\\n'\n",
    "    return ret"
   ]
  },
  {
   "cell_type": "code",
   "execution_count": 12,
   "metadata": {
    "ExecuteTime": {
     "end_time": "2020-02-14T23:50:44.658236Z",
     "start_time": "2020-02-14T23:50:44.650974Z"
    }
   },
   "outputs": [],
   "source": [
    "class DF(DF):\n",
    "    def __iter__(self):\n",
    "        collection = [self.index.values.data] + [self.data[col].values for col in self.columns]\n",
    "        return zip(*collection) \n",
    "    \n",
    "    def __str__(self):\n",
    "        maxlen = max([len(col_name) for col_name in self.columns]) + 2 # Will make for nice spaces\n",
    "        maxlen = max(maxlen, 8)\n",
    "        ret = ''.center(maxlen) # Top-Left Corner\n",
    "        ret += spaced_row(self.columns, maxlen)\n",
    "        for row in self: # This part changes\n",
    "            ret += spaced_row(row, maxlen)\n",
    "        return ret\n",
    "    __repr__ = __str__"
   ]
  },
  {
   "cell_type": "code",
   "execution_count": 13,
   "metadata": {
    "ExecuteTime": {
     "end_time": "2020-02-14T23:50:45.253378Z",
     "start_time": "2020-02-14T23:50:45.250583Z"
    }
   },
   "outputs": [],
   "source": [
    "df = DF(data, index)"
   ]
  },
  {
   "cell_type": "code",
   "execution_count": 14,
   "metadata": {
    "ExecuteTime": {
     "end_time": "2020-02-14T23:50:45.591775Z",
     "start_time": "2020-02-14T23:50:45.588985Z"
    }
   },
   "outputs": [
    {
     "name": "stdout",
     "output_type": "stream",
     "text": [
      "          flights  visited  country \n",
      "   tlv       10       6      Israel \n",
      "   tbs       12       1     Georgia \n",
      "   jfk       50       2        US   \n",
      "   ewr       40       0        US   \n",
      "\n"
     ]
    }
   ],
   "source": [
    "print(df)"
   ]
  },
  {
   "cell_type": "markdown",
   "metadata": {},
   "source": [
    "## Exercise: Make Nice Table for Notebook\n",
    "The [`_repr_markdown_`](../Supplemental%20-%20Minimals.ipynb#Markdown-Repr) is method special for notebooks. If a class has this method, the notebook will render the markdown.\n",
    "\n",
    "Creating a table in Markdown goes like this:\n",
    "```\n",
    "| Name  | Age | Gender |\n",
    "|-------|-----|--------| # At least the `-`\n",
    "| Dean  | 33  | M      |\n",
    "| Inbal | 33  | F      |\n",
    "| Idan  | 14  | M      |\n",
    "```\n",
    "| Name  | Age | Gender |\n",
    "|-------|-----|--------|\n",
    "| Dean  | 33  | M      |\n",
    "| Inbal | 33  | F      |\n",
    "| Idan  | 14  | M      |"
   ]
  },
  {
   "cell_type": "code",
   "execution_count": 15,
   "metadata": {
    "ExecuteTime": {
     "end_time": "2020-02-14T23:50:47.239039Z",
     "start_time": "2020-02-14T23:50:47.233287Z"
    }
   },
   "outputs": [],
   "source": [
    "# Ex\n",
    "def markdown_row(row):\n",
    "    # BOE\n",
    "    ret = ''\n",
    "    for cell in row:\n",
    "        ret += '| ' + str(cell)\n",
    "    ret += '|\\n'\n",
    "    return ret\n",
    "    #EOE\n",
    "\n",
    "class DF(DF):\n",
    "    def _repr_markdown_(self):\n",
    "        ret = '|' # Top-Left Corner\n",
    "        ret += markdown_row(self.columns)\n",
    "        # the --- row\n",
    "        ret += markdown_row(['---'] * (self.shape[1] + 1))\n",
    "        for row in self: # This part changes\n",
    "            ret += markdown_row(row)\n",
    "        return ret"
   ]
  },
  {
   "cell_type": "code",
   "execution_count": 16,
   "metadata": {
    "ExecuteTime": {
     "end_time": "2020-02-14T23:50:47.624101Z",
     "start_time": "2020-02-14T23:50:47.621010Z"
    }
   },
   "outputs": [
    {
     "data": {
      "text/markdown": [
       "|| flights| visited| country|\n",
       "| ---| ---| ---| ---|\n",
       "| tlv| 10| 6| Israel|\n",
       "| tbs| 12| 1| Georgia|\n",
       "| jfk| 50| 2| US|\n",
       "| ewr| 40| 0| US|\n"
      ],
      "text/plain": [
       "          flights  visited  country \n",
       "   tlv       10       6      Israel \n",
       "   tbs       12       1     Georgia \n",
       "   jfk       50       2        US   \n",
       "   ewr       40       0        US   "
      ]
     },
     "execution_count": 16,
     "metadata": {},
     "output_type": "execute_result"
    }
   ],
   "source": [
    "df = DF(data, index)\n",
    "df"
   ]
  },
  {
   "cell_type": "markdown",
   "metadata": {},
   "source": [
    "# New column with `setitem`\n",
    "We are used by now to `getitem`. `setitem` tells the object what to do when we set item like `df['my_col'] = [1,2,3,4]`"
   ]
  },
  {
   "cell_type": "code",
   "execution_count": 17,
   "metadata": {
    "ExecuteTime": {
     "end_time": "2020-02-14T23:50:48.921859Z",
     "start_time": "2020-02-14T23:50:48.917197Z"
    }
   },
   "outputs": [],
   "source": [
    "class DF(DF):    \n",
    "    def __setitem__(self, key, value):\n",
    "        assert len(value) == len(self), 'new series is not of same length as df'\n",
    "        if key not in self.columns: # If it is in the columns, it just replaces the current\n",
    "            self.columns.append(key) # This will change the shape\n",
    "            df.shape = (len(value),len(self.columns)) # We will see a better way\n",
    "        if isinstance(value, Srs): # We did this in __init__. Remember?\n",
    "            value = value.values\n",
    "        self.data[key] = Srs(value, name=key, index=self.index)\n",
    "    \n",
    "        "
   ]
  },
  {
   "cell_type": "code",
   "execution_count": 18,
   "metadata": {
    "ExecuteTime": {
     "end_time": "2020-02-14T23:50:49.491102Z",
     "start_time": "2020-02-14T23:50:49.485429Z"
    }
   },
   "outputs": [
    {
     "data": {
      "text/markdown": [
       "|| flights| visited| country| mayor|\n",
       "| ---| ---| ---| ---| ---|\n",
       "| tlv| 10| 6| Israel| Huldai|\n",
       "| tbs| 12| 1| Georgia| Kaladze|\n",
       "| jfk| 50| 2| US| De Blasio|\n",
       "| ewr| 40| 0| US| Baraka|\n"
      ],
      "text/plain": [
       "          flights  visited  country   mayor  \n",
       "   tlv       10       6      Israel   Huldai \n",
       "   tbs       12       1     Georgia  Kaladze \n",
       "   jfk       50       2        US   De Blasio\n",
       "   ewr       40       0        US     Baraka "
      ]
     },
     "execution_count": 18,
     "metadata": {},
     "output_type": "execute_result"
    }
   ],
   "source": [
    "df = DF(data, index)\n",
    "df['mayor'] = ['Huldai','Kaladze', 'De Blasio', 'Baraka']\n",
    "df"
   ]
  },
  {
   "cell_type": "markdown",
   "metadata": {},
   "source": [
    "# Back to Slicing"
   ]
  },
  {
   "cell_type": "code",
   "execution_count": 19,
   "metadata": {
    "ExecuteTime": {
     "end_time": "2020-02-14T23:50:53.108959Z",
     "start_time": "2020-02-14T23:50:53.102303Z"
    }
   },
   "outputs": [],
   "source": [
    "class DF(DF):\n",
    "    def __getitem__(self, items):\n",
    "        if not isinstance(items, tuple):\n",
    "            items = (items,)\n",
    "        if len(items) == 1:\n",
    "            # Bring all rows\n",
    "            return self[:, items[0]]\n",
    "        rowidx, colidx = items\n",
    "        if colidx == slice(None):\n",
    "            columns = self.columns\n",
    "        elif isinstance(colidx, str):\n",
    "            # Just return the series\n",
    "            s = self.data[colidx]\n",
    "            return s[rowidx]\n",
    "        else:\n",
    "            # Take relevant columns\n",
    "            columns = [col for col in self.columns if col in colidx] # Do we have to create a new dataframe?\n",
    "        data = {col: self.data[col][rowidx] for col in columns}\n",
    "        index = data[columns[0]].index\n",
    "        ret = DF(data, index=index)\n",
    "        return ret"
   ]
  },
  {
   "cell_type": "code",
   "execution_count": 20,
   "metadata": {
    "ExecuteTime": {
     "end_time": "2020-02-14T23:50:53.446445Z",
     "start_time": "2020-02-14T23:50:53.442937Z"
    }
   },
   "outputs": [],
   "source": [
    "df = DF(data, index)"
   ]
  },
  {
   "cell_type": "code",
   "execution_count": 21,
   "metadata": {
    "ExecuteTime": {
     "end_time": "2020-02-14T23:50:57.660176Z",
     "start_time": "2020-02-14T23:50:57.654341Z"
    }
   },
   "outputs": [
    {
     "data": {
      "text/plain": [
       "visited: \n",
       " tlv    6   \n",
       " tbs    1   \n",
       " jfk    2   \n",
       " ewr    0   "
      ]
     },
     "execution_count": 21,
     "metadata": {},
     "output_type": "execute_result"
    }
   ],
   "source": [
    "df['visited']"
   ]
  },
  {
   "cell_type": "code",
   "execution_count": 22,
   "metadata": {
    "ExecuteTime": {
     "end_time": "2020-02-14T23:50:58.425378Z",
     "start_time": "2020-02-14T23:50:58.421191Z"
    }
   },
   "outputs": [
    {
     "data": {
      "text/markdown": [
       "|| flights| visited| country|\n",
       "| ---| ---| ---| ---|\n",
       "| jfk| 50| 2| US|\n",
       "| ewr| 40| 0| US|\n"
      ],
      "text/plain": [
       "          flights  visited  country \n",
       "   jfk       50       2        US   \n",
       "   ewr       40       0        US   "
      ]
     },
     "execution_count": 22,
     "metadata": {},
     "output_type": "execute_result"
    }
   ],
   "source": [
    "df[['jfk','ewr'],:]"
   ]
  },
  {
   "cell_type": "code",
   "execution_count": 24,
   "metadata": {
    "ExecuteTime": {
     "end_time": "2020-02-14T23:51:13.091041Z",
     "start_time": "2020-02-14T23:51:13.085690Z"
    }
   },
   "outputs": [
    {
     "data": {
      "text/markdown": [
       "|| flights| visited|\n",
       "| ---| ---| ---|\n",
       "| tlv| 10| 6|\n",
       "| tbs| 12| 1|\n"
      ],
      "text/plain": [
       "          flights  visited \n",
       "   tlv       10       6    \n",
       "   tbs       12       1    "
      ]
     },
     "execution_count": 24,
     "metadata": {},
     "output_type": "execute_result"
    }
   ],
   "source": [
    "\n",
    "df[['tlv','tbs'],['visited','flights']]"
   ]
  },
  {
   "cell_type": "markdown",
   "metadata": {},
   "source": [
    "# attr access\n",
    "In pandas we can address a column like a property. We do it with the `__getattr__`."
   ]
  },
  {
   "cell_type": "code",
   "execution_count": 25,
   "metadata": {
    "ExecuteTime": {
     "end_time": "2020-02-14T23:51:17.278415Z",
     "start_time": "2020-02-14T23:51:17.274488Z"
    }
   },
   "outputs": [],
   "source": [
    "class DF(DF):\n",
    "    def __getattr__(self, item):\n",
    "        if item in self.columns:\n",
    "            return self[:, item]\n",
    "        raise AttributeError"
   ]
  },
  {
   "cell_type": "code",
   "execution_count": 26,
   "metadata": {
    "ExecuteTime": {
     "end_time": "2020-02-14T23:51:17.886121Z",
     "start_time": "2020-02-14T23:51:17.880917Z"
    }
   },
   "outputs": [
    {
     "data": {
      "text/plain": [
       "flights: \n",
       " tlv    10  \n",
       " tbs    12  \n",
       " jfk    50  \n",
       " ewr    40  "
      ]
     },
     "execution_count": 26,
     "metadata": {},
     "output_type": "execute_result"
    }
   ],
   "source": [
    "df = DF(data,index)\n",
    "df.flights"
   ]
  }
 ],
 "metadata": {
  "kernelspec": {
   "display_name": "Python 3",
   "language": "python",
   "name": "python3"
  },
  "language_info": {
   "codemirror_mode": {
    "name": "ipython",
    "version": 3
   },
   "file_extension": ".py",
   "mimetype": "text/x-python",
   "name": "python",
   "nbconvert_exporter": "python",
   "pygments_lexer": "ipython3",
   "version": "3.8.1"
  },
  "toc": {
   "base_numbering": 1,
   "nav_menu": {},
   "number_sections": true,
   "sideBar": true,
   "skip_h1_title": false,
   "title_cell": "Table of Contents",
   "title_sidebar": "Contents",
   "toc_cell": false,
   "toc_position": {},
   "toc_section_display": true,
   "toc_window_display": true
  }
 },
 "nbformat": 4,
 "nbformat_minor": 4
}
